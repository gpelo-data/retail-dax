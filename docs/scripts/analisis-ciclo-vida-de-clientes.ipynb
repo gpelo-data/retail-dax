{
 "cells": [
  {
   "cell_type": "markdown",
   "id": "5a69b478-5f4e-4e6b-b832-6f4dc7f90c4d",
   "metadata": {},
   "source": [
    "# 📌Análisis del Ciclo de Vida del Cliente"
   ]
  },
  {
   "cell_type": "markdown",
   "id": "b1d6a494-a476-44c7-9c56-bee2bd3d07d7",
   "metadata": {},
   "source": [
    "### Introducción"
   ]
  },
  {
   "cell_type": "markdown",
   "id": "38d03068-7333-4882-b63a-ac1047a415b3",
   "metadata": {},
   "source": [
    "Un pequeño proyecto que aborda desde el modelado de tablas, la limpieza y transformación de datos, almacenamiento utilizando SQLServer, hasta el visualización en PowerBI."
   ]
  },
  {
   "cell_type": "markdown",
   "id": "9a93435f-7792-4150-ba8a-5bb5274b97cc",
   "metadata": {},
   "source": [
    "### Diagrama Entidad Relación"
   ]
  },
  {
   "cell_type": "markdown",
   "id": "1a2a4a36",
   "metadata": {},
   "source": []
  },
  {
   "cell_type": "markdown",
   "id": "ca6d44fc-0b19-4de3-8d37-ac8416f32238",
   "metadata": {},
   "source": [
    "# 📌Librerías"
   ]
  },
  {
   "cell_type": "markdown",
   "id": "2009a976-3bab-47a3-829a-48e372306cf5",
   "metadata": {},
   "source": [
    "En esta sección importamos las librerías necesarias para manipular, limpiar y procesar los datos."
   ]
  },
  {
   "cell_type": "code",
   "execution_count": 2311,
   "id": "b9aa53d0-8a66-4fbd-ac13-f97b71223767",
   "metadata": {},
   "outputs": [],
   "source": [
    "# Manipulación de datos\n",
    "import pandas as pd\n",
    "import numpy as np"
   ]
  },
  {
   "cell_type": "code",
   "execution_count": 2312,
   "id": "68e0a9be-3201-4fdf-8986-e14a5ea52fea",
   "metadata": {},
   "outputs": [],
   "source": [
    "# Visualización de datos\n",
    "import matplotlib.pyplot as plt\n",
    "%matplotlib inline\n",
    "\n",
    "import seaborn as sns"
   ]
  },
  {
   "cell_type": "code",
   "execution_count": 2313,
   "id": "8ef32b14-22c6-4079-a594-96972d0c06c5",
   "metadata": {},
   "outputs": [],
   "source": [
    "# Para manejar rutas\n",
    "import os"
   ]
  },
  {
   "cell_type": "code",
   "execution_count": 2314,
   "id": "9a3b4c7e-6953-45e5-8091-140437833930",
   "metadata": {},
   "outputs": [],
   "source": [
    "# Para conectar a sql\n",
    "from sqlalchemy import create_engine, text"
   ]
  },
  {
   "cell_type": "markdown",
   "id": "4481b694-fb6c-4ce2-9c6d-69eec4053ffc",
   "metadata": {},
   "source": [
    "# 📌Configuración de parámetros"
   ]
  },
  {
   "cell_type": "code",
   "execution_count": 2316,
   "id": "2979b800-a2da-4606-9786-620555dc6752",
   "metadata": {},
   "outputs": [],
   "source": [
    "# Obtenemos la ruta base donde está este archivo\n",
    "path_base = os.getcwd()\n",
    "\n",
    "# Nombre del archivo\n",
    "nombre_archivo = \"data.xlsx\""
   ]
  },
  {
   "cell_type": "markdown",
   "id": "ed156ada-3d08-48a4-a80b-b5e09e5749d4",
   "metadata": {},
   "source": [
    "# 📌Carga de datos"
   ]
  },
  {
   "cell_type": "code",
   "execution_count": 2318,
   "id": "c81cd40a-ff2e-478c-9935-6164ac35b44f",
   "metadata": {},
   "outputs": [
    {
     "name": "stdout",
     "output_type": "stream",
     "text": [
      "✅ Los datos han sido cargados correctamente. Filas:9994\n"
     ]
    }
   ],
   "source": [
    "# Cargamos los datos\n",
    "try:\n",
    "    path_ventas = os.path.join(path_base, \"database\", nombre_archivo)\n",
    "    df_ventas = pd.read_excel(path_ventas)\n",
    "    print(f\"✅ Los datos han sido cargados correctamente. Filas:{len(df_ventas)}\")\n",
    "except:\n",
    "    print(f\"❌ Error: El archivo '{nombre_archivo}' no se encuentra en la ruta: {path_ventas}\")\n",
    "    df_ventas = None"
   ]
  },
  {
   "cell_type": "markdown",
   "id": "149b45a0-2a34-48f2-982d-0513654d861f",
   "metadata": {},
   "source": [
    "# 📌Análisis Exploratorio de Datos"
   ]
  },
  {
   "cell_type": "code",
   "execution_count": 2320,
   "id": "872efbcd-edc2-42ee-81c0-f81ed5b94ff7",
   "metadata": {},
   "outputs": [
    {
     "data": {
      "text/html": [
       "<div>\n",
       "<style scoped>\n",
       "    .dataframe tbody tr th:only-of-type {\n",
       "        vertical-align: middle;\n",
       "    }\n",
       "\n",
       "    .dataframe tbody tr th {\n",
       "        vertical-align: top;\n",
       "    }\n",
       "\n",
       "    .dataframe thead th {\n",
       "        text-align: right;\n",
       "    }\n",
       "</style>\n",
       "<table border=\"1\" class=\"dataframe\">\n",
       "  <thead>\n",
       "    <tr style=\"text-align: right;\">\n",
       "      <th></th>\n",
       "      <th>Row ID</th>\n",
       "      <th>Order ID</th>\n",
       "      <th>Order Date</th>\n",
       "      <th>Ship Date</th>\n",
       "      <th>Ship Mode</th>\n",
       "      <th>Customer ID</th>\n",
       "      <th>Customer Name</th>\n",
       "      <th>Segment</th>\n",
       "      <th>Country</th>\n",
       "      <th>City</th>\n",
       "      <th>...</th>\n",
       "      <th>Retail Sales People</th>\n",
       "      <th>Product ID</th>\n",
       "      <th>Category</th>\n",
       "      <th>Sub-Category</th>\n",
       "      <th>Product Name</th>\n",
       "      <th>Returned</th>\n",
       "      <th>Sales</th>\n",
       "      <th>Quantity</th>\n",
       "      <th>Discount</th>\n",
       "      <th>Profit</th>\n",
       "    </tr>\n",
       "  </thead>\n",
       "  <tbody>\n",
       "    <tr>\n",
       "      <th>0</th>\n",
       "      <td>646</td>\n",
       "      <td>CA-2017-126221</td>\n",
       "      <td>2017-12-30</td>\n",
       "      <td>2018-05-01</td>\n",
       "      <td>Standard Class</td>\n",
       "      <td>CC-12430</td>\n",
       "      <td>Chuck Clark</td>\n",
       "      <td>Home Office</td>\n",
       "      <td>United States</td>\n",
       "      <td>Columbus</td>\n",
       "      <td>...</td>\n",
       "      <td>Kelly Williams</td>\n",
       "      <td>OFF-AP-10002457</td>\n",
       "      <td>Office Supplies</td>\n",
       "      <td>Appliances</td>\n",
       "      <td>Eureka The Boss Plus 12-Amp Hard Box Upright V...</td>\n",
       "      <td>Not</td>\n",
       "      <td>209.30</td>\n",
       "      <td>2</td>\n",
       "      <td>0.0</td>\n",
       "      <td>125.580</td>\n",
       "    </tr>\n",
       "    <tr>\n",
       "      <th>1</th>\n",
       "      <td>5132</td>\n",
       "      <td>CA-2017-146626</td>\n",
       "      <td>2017-12-29</td>\n",
       "      <td>2018-05-01</td>\n",
       "      <td>Standard Class</td>\n",
       "      <td>BP-11185</td>\n",
       "      <td>Ben Peterman</td>\n",
       "      <td>Corporate</td>\n",
       "      <td>United States</td>\n",
       "      <td>Anaheim</td>\n",
       "      <td>...</td>\n",
       "      <td>Anna Andreadi</td>\n",
       "      <td>FUR-FU-10002501</td>\n",
       "      <td>Furniture</td>\n",
       "      <td>Furnishings</td>\n",
       "      <td>Nu-Dell Executive Frame</td>\n",
       "      <td>Not</td>\n",
       "      <td>101.12</td>\n",
       "      <td>8</td>\n",
       "      <td>0.0</td>\n",
       "      <td>60.672</td>\n",
       "    </tr>\n",
       "    <tr>\n",
       "      <th>2</th>\n",
       "      <td>571</td>\n",
       "      <td>CA-2017-164826</td>\n",
       "      <td>2017-12-28</td>\n",
       "      <td>2018-04-01</td>\n",
       "      <td>Standard Class</td>\n",
       "      <td>JF-15415</td>\n",
       "      <td>Jennifer Ferguson</td>\n",
       "      <td>Consumer</td>\n",
       "      <td>United States</td>\n",
       "      <td>New York City</td>\n",
       "      <td>...</td>\n",
       "      <td>Chuck Magee</td>\n",
       "      <td>OFF-LA-10001297</td>\n",
       "      <td>Office Supplies</td>\n",
       "      <td>Labels</td>\n",
       "      <td>Avery 473</td>\n",
       "      <td>Not</td>\n",
       "      <td>72.45</td>\n",
       "      <td>7</td>\n",
       "      <td>0.0</td>\n",
       "      <td>43.470</td>\n",
       "    </tr>\n",
       "  </tbody>\n",
       "</table>\n",
       "<p>3 rows × 23 columns</p>\n",
       "</div>"
      ],
      "text/plain": [
       "   Row ID        Order ID Order Date  Ship Date       Ship Mode Customer ID  \\\n",
       "0     646  CA-2017-126221 2017-12-30 2018-05-01  Standard Class    CC-12430   \n",
       "1    5132  CA-2017-146626 2017-12-29 2018-05-01  Standard Class    BP-11185   \n",
       "2     571  CA-2017-164826 2017-12-28 2018-04-01  Standard Class    JF-15415   \n",
       "\n",
       "       Customer Name      Segment        Country           City  ...  \\\n",
       "0        Chuck Clark  Home Office  United States       Columbus  ...   \n",
       "1       Ben Peterman    Corporate  United States        Anaheim  ...   \n",
       "2  Jennifer Ferguson     Consumer  United States  New York City  ...   \n",
       "\n",
       "  Retail Sales People       Product ID         Category Sub-Category  \\\n",
       "0      Kelly Williams  OFF-AP-10002457  Office Supplies   Appliances   \n",
       "1       Anna Andreadi  FUR-FU-10002501        Furniture  Furnishings   \n",
       "2         Chuck Magee  OFF-LA-10001297  Office Supplies       Labels   \n",
       "\n",
       "                                        Product Name Returned   Sales  \\\n",
       "0  Eureka The Boss Plus 12-Amp Hard Box Upright V...      Not  209.30   \n",
       "1                            Nu-Dell Executive Frame      Not  101.12   \n",
       "2                                          Avery 473      Not   72.45   \n",
       "\n",
       "  Quantity Discount   Profit  \n",
       "0        2      0.0  125.580  \n",
       "1        8      0.0   60.672  \n",
       "2        7      0.0   43.470  \n",
       "\n",
       "[3 rows x 23 columns]"
      ]
     },
     "execution_count": 2320,
     "metadata": {},
     "output_type": "execute_result"
    }
   ],
   "source": [
    "# Vistazo inicial\n",
    "df_ventas.head(3)"
   ]
  },
  {
   "cell_type": "code",
   "execution_count": null,
   "id": "5b935d85-9dbd-4f2e-9a95-c676cf27ff60",
   "metadata": {},
   "outputs": [],
   "source": []
  },
  {
   "cell_type": "code",
   "execution_count": 2321,
   "id": "9d0e43b8-a45b-472d-a1f5-58ed0fd3f6c6",
   "metadata": {},
   "outputs": [
    {
     "data": {
      "text/html": [
       "<div>\n",
       "<style scoped>\n",
       "    .dataframe tbody tr th:only-of-type {\n",
       "        vertical-align: middle;\n",
       "    }\n",
       "\n",
       "    .dataframe tbody tr th {\n",
       "        vertical-align: top;\n",
       "    }\n",
       "\n",
       "    .dataframe thead th {\n",
       "        text-align: right;\n",
       "    }\n",
       "</style>\n",
       "<table border=\"1\" class=\"dataframe\">\n",
       "  <thead>\n",
       "    <tr style=\"text-align: right;\">\n",
       "      <th></th>\n",
       "      <th>count</th>\n",
       "      <th>mean</th>\n",
       "      <th>min</th>\n",
       "      <th>25%</th>\n",
       "      <th>50%</th>\n",
       "      <th>75%</th>\n",
       "      <th>max</th>\n",
       "      <th>std</th>\n",
       "    </tr>\n",
       "  </thead>\n",
       "  <tbody>\n",
       "    <tr>\n",
       "      <th>Row ID</th>\n",
       "      <td>9994.0</td>\n",
       "      <td>4997.5</td>\n",
       "      <td>1.0</td>\n",
       "      <td>2499.25</td>\n",
       "      <td>4997.5</td>\n",
       "      <td>7495.75</td>\n",
       "      <td>9994.0</td>\n",
       "      <td>2885.163629</td>\n",
       "    </tr>\n",
       "    <tr>\n",
       "      <th>Order Date</th>\n",
       "      <td>9994</td>\n",
       "      <td>2016-04-11 07:17:44.078447104</td>\n",
       "      <td>2014-01-02 00:00:00</td>\n",
       "      <td>2015-05-01 00:00:00</td>\n",
       "      <td>2016-05-30 00:00:00</td>\n",
       "      <td>2017-04-09 00:00:00</td>\n",
       "      <td>2017-12-30 00:00:00</td>\n",
       "      <td>NaN</td>\n",
       "    </tr>\n",
       "    <tr>\n",
       "      <th>Ship Date</th>\n",
       "      <td>9994</td>\n",
       "      <td>2016-05-15 21:54:47.332399360</td>\n",
       "      <td>2014-01-15 00:00:00</td>\n",
       "      <td>2015-06-20 00:00:00</td>\n",
       "      <td>2016-07-21 00:00:00</td>\n",
       "      <td>2017-06-02 00:00:00</td>\n",
       "      <td>2018-05-01 00:00:00</td>\n",
       "      <td>NaN</td>\n",
       "    </tr>\n",
       "    <tr>\n",
       "      <th>Postal Code</th>\n",
       "      <td>9994.0</td>\n",
       "      <td>55190.379428</td>\n",
       "      <td>1040.0</td>\n",
       "      <td>23223.0</td>\n",
       "      <td>56430.5</td>\n",
       "      <td>90008.0</td>\n",
       "      <td>99301.0</td>\n",
       "      <td>32063.69335</td>\n",
       "    </tr>\n",
       "    <tr>\n",
       "      <th>Sales</th>\n",
       "      <td>9994.0</td>\n",
       "      <td>229.858001</td>\n",
       "      <td>0.444</td>\n",
       "      <td>17.28</td>\n",
       "      <td>54.49</td>\n",
       "      <td>209.94</td>\n",
       "      <td>22638.48</td>\n",
       "      <td>623.245101</td>\n",
       "    </tr>\n",
       "    <tr>\n",
       "      <th>Quantity</th>\n",
       "      <td>9994.0</td>\n",
       "      <td>3.789574</td>\n",
       "      <td>1.0</td>\n",
       "      <td>2.0</td>\n",
       "      <td>3.0</td>\n",
       "      <td>5.0</td>\n",
       "      <td>14.0</td>\n",
       "      <td>2.22511</td>\n",
       "    </tr>\n",
       "    <tr>\n",
       "      <th>Discount</th>\n",
       "      <td>9987.0</td>\n",
       "      <td>0.156312</td>\n",
       "      <td>0.0</td>\n",
       "      <td>0.0</td>\n",
       "      <td>0.2</td>\n",
       "      <td>0.2</td>\n",
       "      <td>0.8</td>\n",
       "      <td>0.206483</td>\n",
       "    </tr>\n",
       "    <tr>\n",
       "      <th>Profit</th>\n",
       "      <td>9994.0</td>\n",
       "      <td>137.9148</td>\n",
       "      <td>0.2664</td>\n",
       "      <td>10.368</td>\n",
       "      <td>32.694</td>\n",
       "      <td>125.964</td>\n",
       "      <td>13583.088</td>\n",
       "      <td>373.94706</td>\n",
       "    </tr>\n",
       "  </tbody>\n",
       "</table>\n",
       "</div>"
      ],
      "text/plain": [
       "              count                           mean                  min  \\\n",
       "Row ID       9994.0                         4997.5                  1.0   \n",
       "Order Date     9994  2016-04-11 07:17:44.078447104  2014-01-02 00:00:00   \n",
       "Ship Date      9994  2016-05-15 21:54:47.332399360  2014-01-15 00:00:00   \n",
       "Postal Code  9994.0                   55190.379428               1040.0   \n",
       "Sales        9994.0                     229.858001                0.444   \n",
       "Quantity     9994.0                       3.789574                  1.0   \n",
       "Discount     9987.0                       0.156312                  0.0   \n",
       "Profit       9994.0                       137.9148               0.2664   \n",
       "\n",
       "                             25%                  50%                  75%  \\\n",
       "Row ID                   2499.25               4997.5              7495.75   \n",
       "Order Date   2015-05-01 00:00:00  2016-05-30 00:00:00  2017-04-09 00:00:00   \n",
       "Ship Date    2015-06-20 00:00:00  2016-07-21 00:00:00  2017-06-02 00:00:00   \n",
       "Postal Code              23223.0              56430.5              90008.0   \n",
       "Sales                      17.28                54.49               209.94   \n",
       "Quantity                     2.0                  3.0                  5.0   \n",
       "Discount                     0.0                  0.2                  0.2   \n",
       "Profit                    10.368               32.694              125.964   \n",
       "\n",
       "                             max          std  \n",
       "Row ID                    9994.0  2885.163629  \n",
       "Order Date   2017-12-30 00:00:00          NaN  \n",
       "Ship Date    2018-05-01 00:00:00          NaN  \n",
       "Postal Code              99301.0  32063.69335  \n",
       "Sales                   22638.48   623.245101  \n",
       "Quantity                    14.0      2.22511  \n",
       "Discount                     0.8     0.206483  \n",
       "Profit                 13583.088    373.94706  "
      ]
     },
     "execution_count": 2321,
     "metadata": {},
     "output_type": "execute_result"
    }
   ],
   "source": [
    "# Estadísticas descriptivas\n",
    "df_ventas.describe().T"
   ]
  },
  {
   "cell_type": "code",
   "execution_count": null,
   "id": "27e53ac7-54be-4ca7-999d-4d6aab24acaa",
   "metadata": {},
   "outputs": [],
   "source": []
  },
  {
   "cell_type": "code",
   "execution_count": 2322,
   "id": "e602e894-2cfd-4891-a77f-c992e2ba1d83",
   "metadata": {},
   "outputs": [
    {
     "name": "stdout",
     "output_type": "stream",
     "text": [
      "<class 'pandas.core.frame.DataFrame'>\n",
      "RangeIndex: 9994 entries, 0 to 9993\n",
      "Data columns (total 23 columns):\n",
      " #   Column               Non-Null Count  Dtype         \n",
      "---  ------               --------------  -----         \n",
      " 0   Row ID               9994 non-null   int64         \n",
      " 1   Order ID             9994 non-null   object        \n",
      " 2   Order Date           9994 non-null   datetime64[ns]\n",
      " 3   Ship Date            9994 non-null   datetime64[ns]\n",
      " 4   Ship Mode            9994 non-null   object        \n",
      " 5   Customer ID          9994 non-null   object        \n",
      " 6   Customer Name        9994 non-null   object        \n",
      " 7   Segment              9994 non-null   object        \n",
      " 8   Country              9994 non-null   object        \n",
      " 9   City                 9994 non-null   object        \n",
      " 10  State                9994 non-null   object        \n",
      " 11  Postal Code          9994 non-null   int64         \n",
      " 12  Region               9994 non-null   object        \n",
      " 13  Retail Sales People  9994 non-null   object        \n",
      " 14  Product ID           9994 non-null   object        \n",
      " 15  Category             9994 non-null   object        \n",
      " 16  Sub-Category         9994 non-null   object        \n",
      " 17  Product Name         9994 non-null   object        \n",
      " 18  Returned             9994 non-null   object        \n",
      " 19  Sales                9994 non-null   float64       \n",
      " 20  Quantity             9994 non-null   int64         \n",
      " 21  Discount             9987 non-null   float64       \n",
      " 22  Profit               9994 non-null   float64       \n",
      "dtypes: datetime64[ns](2), float64(3), int64(3), object(15)\n",
      "memory usage: 1.8+ MB\n"
     ]
    }
   ],
   "source": [
    "# Tipo de datos y valores nulos\n",
    "df_ventas.info()"
   ]
  },
  {
   "cell_type": "markdown",
   "id": "5411bfaa-ffca-41ae-b16f-0837a8591808",
   "metadata": {},
   "source": [
    "**Valores unicos**"
   ]
  },
  {
   "cell_type": "code",
   "execution_count": 2324,
   "id": "a38b8404-9671-477b-afa3-a42a344463c8",
   "metadata": {},
   "outputs": [
    {
     "name": "stdout",
     "output_type": "stream",
     "text": [
      "Valores únicos en Segment:  ['Home Office' 'Corporate' 'Consumer']\n"
     ]
    }
   ],
   "source": [
    "# Valores unicos de Segment\n",
    "print(\"Valores únicos en Segment: \", df_ventas.Segment.unique())"
   ]
  },
  {
   "cell_type": "code",
   "execution_count": 2325,
   "id": "c6b996a6-aa83-499f-a9d1-f3be35d37c14",
   "metadata": {},
   "outputs": [
    {
     "name": "stdout",
     "output_type": "stream",
     "text": [
      "Valores únicos en Country:  ['United States']\n"
     ]
    }
   ],
   "source": [
    "# Valores unicos de Country\n",
    "print(\"Valores únicos en Country: \", df_ventas.Country.unique())"
   ]
  },
  {
   "cell_type": "code",
   "execution_count": 2326,
   "id": "916fd5cf-5d15-494b-a167-44774a1ac9ed",
   "metadata": {},
   "outputs": [
    {
     "name": "stdout",
     "output_type": "stream",
     "text": [
      "Valores únicos en Region:  ['Central' 'West' 'East' 'South']\n"
     ]
    }
   ],
   "source": [
    "# Valores unicos de Region\n",
    "print(\"Valores únicos en Region: \", df_ventas.Region.unique())"
   ]
  },
  {
   "cell_type": "code",
   "execution_count": 2327,
   "id": "fcbc0a06-1f0c-47e1-bcda-1f0afaa747c3",
   "metadata": {},
   "outputs": [
    {
     "name": "stdout",
     "output_type": "stream",
     "text": [
      "Valores únicos en Vendedores:  ['Kelly Williams' 'Anna Andreadi' 'Chuck Magee' 'Cassandra Brandow']\n"
     ]
    }
   ],
   "source": [
    "# Valores unicos de Vendedores\n",
    "print(\"Valores únicos en Vendedores: \", df_ventas[\"Retail Sales People\"].unique())"
   ]
  },
  {
   "cell_type": "code",
   "execution_count": 2328,
   "id": "5e702328-078d-484e-b4be-06e0fef6a903",
   "metadata": {},
   "outputs": [
    {
     "name": "stdout",
     "output_type": "stream",
     "text": [
      "Valores únicos en Categorias:  ['Office Supplies' 'Furniture' 'Technology']\n"
     ]
    }
   ],
   "source": [
    "# Valores unicos de Category\n",
    "print(\"Valores únicos en Categorias: \", df_ventas.Category.unique())"
   ]
  },
  {
   "cell_type": "code",
   "execution_count": 2329,
   "id": "b448e350-4fe3-4765-b8b4-3a77c0d70887",
   "metadata": {},
   "outputs": [
    {
     "name": "stdout",
     "output_type": "stream",
     "text": [
      "Valores únicos en Sub-Categorias:  ['Appliances' 'Furnishings' 'Labels' 'Fasteners' 'Binders' 'Phones'\n",
      " 'Paper' 'Bookcases' 'Storage' 'Chairs' 'Art' 'Supplies' 'Accessories'\n",
      " 'Tables' 'Machines' 'Envelopes' 'Copiers']\n"
     ]
    }
   ],
   "source": [
    "# Valores unicos de Sub-Category\n",
    "print(\"Valores únicos en Sub-Categorias: \", df_ventas[\"Sub-Category\"].unique())"
   ]
  },
  {
   "cell_type": "code",
   "execution_count": 2330,
   "id": "5baa1d8c-95d6-4056-8fc7-c51baacdc7be",
   "metadata": {},
   "outputs": [
    {
     "name": "stdout",
     "output_type": "stream",
     "text": [
      "Valores únicos en Retornado:  ['Not' 'Yes']\n"
     ]
    }
   ],
   "source": [
    "# Valores unicos en Returned\n",
    "print(\"Valores únicos en Retornado: \", df_ventas.Returned.unique())"
   ]
  },
  {
   "cell_type": "markdown",
   "id": "f1f24aa8-5adb-4047-abec-01b008cc0601",
   "metadata": {},
   "source": [
    "**Valores atípicos**"
   ]
  },
  {
   "cell_type": "code",
   "execution_count": 2332,
   "id": "b6c6699a-9d85-40fc-9e50-623b2aef5d2a",
   "metadata": {},
   "outputs": [],
   "source": [
    "df_numerico = df_ventas.select_dtypes(include=\"number\")"
   ]
  },
  {
   "cell_type": "code",
   "execution_count": 2333,
   "id": "eece1ab6-bd55-4378-aa20-976c7e520851",
   "metadata": {},
   "outputs": [
    {
     "data": {
      "image/png": "[encoded data removed]",
      "text/plain": [
       "<Figure size 1000x500 with 1 Axes>"
      ]
     },
     "metadata": {},
     "output_type": "display_data"
    }
   ],
   "source": [
    "# Graficamos boxplot\n",
    "plt.figure(figsize=(10,5))\n",
    "df_numerico.boxplot()\n",
    "\n",
    "plt.show()"
   ]
  },
  {
   "cell_type": "code",
   "execution_count": null,
   "id": "37a485f3-3d5d-4142-bc13-332d6de3a216",
   "metadata": {},
   "outputs": [],
   "source": []
  },
  {
   "cell_type": "markdown",
   "id": "3ca918e9-5b83-410a-92dd-1ae0427abdc8",
   "metadata": {},
   "source": [
    "**Valores duplicados**"
   ]
  },
  {
   "cell_type": "code",
   "execution_count": 2335,
   "id": "3248fa2a-dc66-48e3-9d73-66679eb7342c",
   "metadata": {},
   "outputs": [
    {
     "name": "stdout",
     "output_type": "stream",
     "text": [
      "Cantidad de registros duplicados: 0\n"
     ]
    }
   ],
   "source": [
    "# Duplicados\n",
    "print(\"Cantidad de registros duplicados:\",df_ventas.duplicated().sum())"
   ]
  },
  {
   "cell_type": "code",
   "execution_count": null,
   "id": "0d363fe8-4abd-4acc-8449-a1b20b3acf20",
   "metadata": {},
   "outputs": [],
   "source": []
  },
  {
   "cell_type": "markdown",
   "id": "fdf8fcc0-2e18-4897-b25c-f770e2d5f987",
   "metadata": {},
   "source": [
    "**--RESUMEN--**\n",
    "\n",
    "**Valores nulos:**  \n",
    "- Se detectaron 7 valores nulos en *Discount*.\n",
    "\n",
    "**Tipos de datos:**  \n",
    "- Los tipos de datos están correctos.\n",
    "\n",
    "**Valores duplicados:**  \n",
    "- No hay registros duplicados.\n",
    "\n",
    "**Datos categóricos:**  \n",
    "- No hay errores en los datos categoricos.\n",
    "\n",
    "**Datos atípicos:**  \n",
    "- Los outliers son controlables."
   ]
  },
  {
   "cell_type": "code",
   "execution_count": 2337,
   "id": "e9bab110-c224-4e57-b273-36a922b6ef43",
   "metadata": {},
   "outputs": [
    {
     "data": {
      "text/html": [
       "<div>\n",
       "<style scoped>\n",
       "    .dataframe tbody tr th:only-of-type {\n",
       "        vertical-align: middle;\n",
       "    }\n",
       "\n",
       "    .dataframe tbody tr th {\n",
       "        vertical-align: top;\n",
       "    }\n",
       "\n",
       "    .dataframe thead th {\n",
       "        text-align: right;\n",
       "    }\n",
       "</style>\n",
       "<table border=\"1\" class=\"dataframe\">\n",
       "  <thead>\n",
       "    <tr style=\"text-align: right;\">\n",
       "      <th></th>\n",
       "      <th>Row ID</th>\n",
       "      <th>Order ID</th>\n",
       "      <th>Order Date</th>\n",
       "      <th>Ship Date</th>\n",
       "      <th>Ship Mode</th>\n",
       "      <th>Customer ID</th>\n",
       "      <th>Customer Name</th>\n",
       "      <th>Segment</th>\n",
       "      <th>Country</th>\n",
       "      <th>City</th>\n",
       "      <th>...</th>\n",
       "      <th>Retail Sales People</th>\n",
       "      <th>Product ID</th>\n",
       "      <th>Category</th>\n",
       "      <th>Sub-Category</th>\n",
       "      <th>Product Name</th>\n",
       "      <th>Returned</th>\n",
       "      <th>Sales</th>\n",
       "      <th>Quantity</th>\n",
       "      <th>Discount</th>\n",
       "      <th>Profit</th>\n",
       "    </tr>\n",
       "  </thead>\n",
       "  <tbody>\n",
       "    <tr>\n",
       "      <th>9986</th>\n",
       "      <td>1914</td>\n",
       "      <td>CA-2014-103366</td>\n",
       "      <td>2014-01-15</td>\n",
       "      <td>2014-01-17</td>\n",
       "      <td>First Class</td>\n",
       "      <td>EH-13990</td>\n",
       "      <td>Erica Hackney</td>\n",
       "      <td>Consumer</td>\n",
       "      <td>United States</td>\n",
       "      <td>Roswell</td>\n",
       "      <td>...</td>\n",
       "      <td>Cassandra Brandow</td>\n",
       "      <td>TEC-AC-10003628</td>\n",
       "      <td>Technology</td>\n",
       "      <td>Accessories</td>\n",
       "      <td>Logitech 910-002974 M325 Wireless Mouse for We...</td>\n",
       "      <td>Not</td>\n",
       "      <td>149.95</td>\n",
       "      <td>5</td>\n",
       "      <td>NaN</td>\n",
       "      <td>89.970</td>\n",
       "    </tr>\n",
       "    <tr>\n",
       "      <th>9987</th>\n",
       "      <td>2979</td>\n",
       "      <td>CA-2014-109232</td>\n",
       "      <td>2014-01-13</td>\n",
       "      <td>2014-01-16</td>\n",
       "      <td>Second Class</td>\n",
       "      <td>ND-18370</td>\n",
       "      <td>Natalie DeCherney</td>\n",
       "      <td>Consumer</td>\n",
       "      <td>United States</td>\n",
       "      <td>Mount Pleasant</td>\n",
       "      <td>...</td>\n",
       "      <td>Cassandra Brandow</td>\n",
       "      <td>FUR-CH-10000422</td>\n",
       "      <td>Furniture</td>\n",
       "      <td>Chairs</td>\n",
       "      <td>Global Highback Leather Tilter in Burgundy</td>\n",
       "      <td>Not</td>\n",
       "      <td>545.94</td>\n",
       "      <td>6</td>\n",
       "      <td>NaN</td>\n",
       "      <td>327.564</td>\n",
       "    </tr>\n",
       "    <tr>\n",
       "      <th>9988</th>\n",
       "      <td>764</td>\n",
       "      <td>CA-2014-162775</td>\n",
       "      <td>2014-01-13</td>\n",
       "      <td>2014-01-15</td>\n",
       "      <td>Second Class</td>\n",
       "      <td>CS-12250</td>\n",
       "      <td>Chris Selesnick</td>\n",
       "      <td>Corporate</td>\n",
       "      <td>United States</td>\n",
       "      <td>Bossier City</td>\n",
       "      <td>...</td>\n",
       "      <td>Cassandra Brandow</td>\n",
       "      <td>OFF-EN-10001990</td>\n",
       "      <td>Office Supplies</td>\n",
       "      <td>Envelopes</td>\n",
       "      <td>Staple envelope</td>\n",
       "      <td>Not</td>\n",
       "      <td>11.36</td>\n",
       "      <td>2</td>\n",
       "      <td>NaN</td>\n",
       "      <td>6.816</td>\n",
       "    </tr>\n",
       "    <tr>\n",
       "      <th>9989</th>\n",
       "      <td>765</td>\n",
       "      <td>CA-2014-162775</td>\n",
       "      <td>2014-01-13</td>\n",
       "      <td>2014-01-15</td>\n",
       "      <td>Second Class</td>\n",
       "      <td>CS-12250</td>\n",
       "      <td>Chris Selesnick</td>\n",
       "      <td>Corporate</td>\n",
       "      <td>United States</td>\n",
       "      <td>Bossier City</td>\n",
       "      <td>...</td>\n",
       "      <td>Cassandra Brandow</td>\n",
       "      <td>OFF-EN-10001532</td>\n",
       "      <td>Office Supplies</td>\n",
       "      <td>Envelopes</td>\n",
       "      <td>Brown Kraft Recycled Envelopes</td>\n",
       "      <td>Not</td>\n",
       "      <td>50.94</td>\n",
       "      <td>3</td>\n",
       "      <td>NaN</td>\n",
       "      <td>30.564</td>\n",
       "    </tr>\n",
       "    <tr>\n",
       "      <th>9990</th>\n",
       "      <td>766</td>\n",
       "      <td>CA-2014-162775</td>\n",
       "      <td>2014-01-13</td>\n",
       "      <td>2014-01-15</td>\n",
       "      <td>Second Class</td>\n",
       "      <td>CS-12250</td>\n",
       "      <td>Chris Selesnick</td>\n",
       "      <td>Corporate</td>\n",
       "      <td>United States</td>\n",
       "      <td>Bossier City</td>\n",
       "      <td>...</td>\n",
       "      <td>Cassandra Brandow</td>\n",
       "      <td>TEC-AC-10003174</td>\n",
       "      <td>Technology</td>\n",
       "      <td>Accessories</td>\n",
       "      <td>Plantronics S12 Corded Telephone Headset System</td>\n",
       "      <td>Not</td>\n",
       "      <td>646.74</td>\n",
       "      <td>6</td>\n",
       "      <td>NaN</td>\n",
       "      <td>388.044</td>\n",
       "    </tr>\n",
       "    <tr>\n",
       "      <th>9991</th>\n",
       "      <td>767</td>\n",
       "      <td>CA-2014-162775</td>\n",
       "      <td>2014-01-13</td>\n",
       "      <td>2014-01-15</td>\n",
       "      <td>Second Class</td>\n",
       "      <td>CS-12250</td>\n",
       "      <td>Chris Selesnick</td>\n",
       "      <td>Corporate</td>\n",
       "      <td>United States</td>\n",
       "      <td>Bossier City</td>\n",
       "      <td>...</td>\n",
       "      <td>Cassandra Brandow</td>\n",
       "      <td>OFF-BI-10004187</td>\n",
       "      <td>Office Supplies</td>\n",
       "      <td>Binders</td>\n",
       "      <td>3-ring staple pack</td>\n",
       "      <td>Not</td>\n",
       "      <td>5.64</td>\n",
       "      <td>3</td>\n",
       "      <td>NaN</td>\n",
       "      <td>3.384</td>\n",
       "    </tr>\n",
       "    <tr>\n",
       "      <th>9992</th>\n",
       "      <td>768</td>\n",
       "      <td>CA-2014-162775</td>\n",
       "      <td>2014-01-13</td>\n",
       "      <td>2014-01-15</td>\n",
       "      <td>Second Class</td>\n",
       "      <td>CS-12250</td>\n",
       "      <td>Chris Selesnick</td>\n",
       "      <td>Corporate</td>\n",
       "      <td>United States</td>\n",
       "      <td>Bossier City</td>\n",
       "      <td>...</td>\n",
       "      <td>Cassandra Brandow</td>\n",
       "      <td>OFF-ST-10000025</td>\n",
       "      <td>Office Supplies</td>\n",
       "      <td>Storage</td>\n",
       "      <td>Fellowes Stor/Drawer Steel Plus Storage Drawers</td>\n",
       "      <td>Not</td>\n",
       "      <td>572.58</td>\n",
       "      <td>6</td>\n",
       "      <td>NaN</td>\n",
       "      <td>343.548</td>\n",
       "    </tr>\n",
       "  </tbody>\n",
       "</table>\n",
       "<p>7 rows × 23 columns</p>\n",
       "</div>"
      ],
      "text/plain": [
       "      Row ID        Order ID Order Date  Ship Date     Ship Mode Customer ID  \\\n",
       "9986    1914  CA-2014-103366 2014-01-15 2014-01-17   First Class    EH-13990   \n",
       "9987    2979  CA-2014-109232 2014-01-13 2014-01-16  Second Class    ND-18370   \n",
       "9988     764  CA-2014-162775 2014-01-13 2014-01-15  Second Class    CS-12250   \n",
       "9989     765  CA-2014-162775 2014-01-13 2014-01-15  Second Class    CS-12250   \n",
       "9990     766  CA-2014-162775 2014-01-13 2014-01-15  Second Class    CS-12250   \n",
       "9991     767  CA-2014-162775 2014-01-13 2014-01-15  Second Class    CS-12250   \n",
       "9992     768  CA-2014-162775 2014-01-13 2014-01-15  Second Class    CS-12250   \n",
       "\n",
       "          Customer Name    Segment        Country            City  ...  \\\n",
       "9986      Erica Hackney   Consumer  United States         Roswell  ...   \n",
       "9987  Natalie DeCherney   Consumer  United States  Mount Pleasant  ...   \n",
       "9988    Chris Selesnick  Corporate  United States    Bossier City  ...   \n",
       "9989    Chris Selesnick  Corporate  United States    Bossier City  ...   \n",
       "9990    Chris Selesnick  Corporate  United States    Bossier City  ...   \n",
       "9991    Chris Selesnick  Corporate  United States    Bossier City  ...   \n",
       "9992    Chris Selesnick  Corporate  United States    Bossier City  ...   \n",
       "\n",
       "     Retail Sales People       Product ID         Category Sub-Category  \\\n",
       "9986   Cassandra Brandow  TEC-AC-10003628       Technology  Accessories   \n",
       "9987   Cassandra Brandow  FUR-CH-10000422        Furniture       Chairs   \n",
       "9988   Cassandra Brandow  OFF-EN-10001990  Office Supplies    Envelopes   \n",
       "9989   Cassandra Brandow  OFF-EN-10001532  Office Supplies    Envelopes   \n",
       "9990   Cassandra Brandow  TEC-AC-10003174       Technology  Accessories   \n",
       "9991   Cassandra Brandow  OFF-BI-10004187  Office Supplies      Binders   \n",
       "9992   Cassandra Brandow  OFF-ST-10000025  Office Supplies      Storage   \n",
       "\n",
       "                                           Product Name Returned   Sales  \\\n",
       "9986  Logitech 910-002974 M325 Wireless Mouse for We...      Not  149.95   \n",
       "9987         Global Highback Leather Tilter in Burgundy      Not  545.94   \n",
       "9988                                    Staple envelope      Not   11.36   \n",
       "9989                     Brown Kraft Recycled Envelopes      Not   50.94   \n",
       "9990    Plantronics S12 Corded Telephone Headset System      Not  646.74   \n",
       "9991                                 3-ring staple pack      Not    5.64   \n",
       "9992    Fellowes Stor/Drawer Steel Plus Storage Drawers      Not  572.58   \n",
       "\n",
       "     Quantity Discount   Profit  \n",
       "9986        5      NaN   89.970  \n",
       "9987        6      NaN  327.564  \n",
       "9988        2      NaN    6.816  \n",
       "9989        3      NaN   30.564  \n",
       "9990        6      NaN  388.044  \n",
       "9991        3      NaN    3.384  \n",
       "9992        6      NaN  343.548  \n",
       "\n",
       "[7 rows x 23 columns]"
      ]
     },
     "execution_count": 2337,
     "metadata": {},
     "output_type": "execute_result"
    }
   ],
   "source": [
    "# Explorando más a fondo los valores nulos en Discount\n",
    "df_ventas[ df_ventas.Discount.isna() ]"
   ]
  },
  {
   "cell_type": "markdown",
   "id": "a1e4a4c4-1750-434a-a858-a97318cf2953",
   "metadata": {},
   "source": [
    "# 📌Transformación y limpieza de datos"
   ]
  },
  {
   "cell_type": "markdown",
   "id": "d61718f8-3326-4a42-a2f8-f04d10d39d15",
   "metadata": {},
   "source": [
    "### Valores nulos\n",
    "En la sección anterior vimos los valores nulos en la columna Discount, a grandes rasgos no se encontró ninguna relación con las demás columnas, por lo que decidí solamente reemplazar los valores nulos por 0 dando a entender que no se aplicó ningún descuento."
   ]
  },
  {
   "cell_type": "code",
   "execution_count": 2340,
   "id": "b6759956-00c2-4b2e-88f7-d7e109e67ab6",
   "metadata": {},
   "outputs": [],
   "source": [
    "# Rellenamos valores nulos\n",
    "df_ventas[\"Discount\"] = df_ventas[\"Discount\"].fillna(0)"
   ]
  },
  {
   "cell_type": "code",
   "execution_count": 2341,
   "id": "24a88e99-6250-45d4-8661-a54501c20d08",
   "metadata": {},
   "outputs": [
    {
     "name": "stdout",
     "output_type": "stream",
     "text": [
      "Cantidad de valores nulos en Discount: 0\n"
     ]
    }
   ],
   "source": [
    "# Verificamos la corección\n",
    "print(\"Cantidad de valores nulos en Discount:\",df_ventas.Discount.isna().sum())"
   ]
  },
  {
   "cell_type": "code",
   "execution_count": null,
   "id": "fc876eee-ed66-4084-a739-f781c8862eae",
   "metadata": {},
   "outputs": [],
   "source": []
  },
  {
   "cell_type": "markdown",
   "id": "a2bda0df-549d-49f8-9391-35f45526c399",
   "metadata": {},
   "source": [
    "### Tablas  \n",
    "Usando el DER de referencia vamos armando cada una de las tablas con el archivo base *df_ventas*."
   ]
  },
  {
   "cell_type": "markdown",
   "id": "aeed70cb-f3e0-4bc6-90e0-5cb5b551b7cf",
   "metadata": {},
   "source": [
    "**TABLA: dimCliente**"
   ]
  },
  {
   "cell_type": "code",
   "execution_count": 2344,
   "id": "057bfd15-696f-4e1a-b38c-df4a85cc806f",
   "metadata": {},
   "outputs": [],
   "source": [
    "# Seleccionamos las columnas necesarias\n",
    "dimCliente = df_ventas[[\"Customer ID\", \"Customer Name\", \"Segment\"]].copy()"
   ]
  },
  {
   "cell_type": "code",
   "execution_count": 2345,
   "id": "8d08540e-6cbb-4c48-bafd-f43739037c60",
   "metadata": {},
   "outputs": [],
   "source": [
    "# Eliminamos duplicados y resetamos el indice\n",
    "dimCliente = dimCliente.drop_duplicates(subset=[\"Customer ID\"]).reset_index(drop = True)"
   ]
  },
  {
   "cell_type": "code",
   "execution_count": 2346,
   "id": "30512021-23b3-4a7a-bec1-d71d50c441c0",
   "metadata": {},
   "outputs": [],
   "source": [
    "# Renombramos las columnas para que coincidan con el der\n",
    "dimCliente = dimCliente.rename(columns={\"Customer ID\":\"CustomerID\", \"Customer Name\":\"Name\"})"
   ]
  },
  {
   "cell_type": "code",
   "execution_count": 2347,
   "id": "9efae903-bc0e-4cd7-90a1-1704b774e0f7",
   "metadata": {},
   "outputs": [
    {
     "data": {
      "text/html": [
       "<div>\n",
       "<style scoped>\n",
       "    .dataframe tbody tr th:only-of-type {\n",
       "        vertical-align: middle;\n",
       "    }\n",
       "\n",
       "    .dataframe tbody tr th {\n",
       "        vertical-align: top;\n",
       "    }\n",
       "\n",
       "    .dataframe thead th {\n",
       "        text-align: right;\n",
       "    }\n",
       "</style>\n",
       "<table border=\"1\" class=\"dataframe\">\n",
       "  <thead>\n",
       "    <tr style=\"text-align: right;\">\n",
       "      <th></th>\n",
       "      <th>CustomerID</th>\n",
       "      <th>Name</th>\n",
       "      <th>Segment</th>\n",
       "    </tr>\n",
       "  </thead>\n",
       "  <tbody>\n",
       "    <tr>\n",
       "      <th>0</th>\n",
       "      <td>CC-12430</td>\n",
       "      <td>Chuck Clark</td>\n",
       "      <td>Home Office</td>\n",
       "    </tr>\n",
       "    <tr>\n",
       "      <th>1</th>\n",
       "      <td>BP-11185</td>\n",
       "      <td>Ben Peterman</td>\n",
       "      <td>Corporate</td>\n",
       "    </tr>\n",
       "    <tr>\n",
       "      <th>2</th>\n",
       "      <td>JF-15415</td>\n",
       "      <td>Jennifer Ferguson</td>\n",
       "      <td>Consumer</td>\n",
       "    </tr>\n",
       "    <tr>\n",
       "      <th>3</th>\n",
       "      <td>KB-16600</td>\n",
       "      <td>Ken Brennan</td>\n",
       "      <td>Corporate</td>\n",
       "    </tr>\n",
       "    <tr>\n",
       "      <th>4</th>\n",
       "      <td>PO-18865</td>\n",
       "      <td>Patrick O'Donnell</td>\n",
       "      <td>Consumer</td>\n",
       "    </tr>\n",
       "  </tbody>\n",
       "</table>\n",
       "</div>"
      ],
      "text/plain": [
       "  CustomerID               Name      Segment\n",
       "0   CC-12430        Chuck Clark  Home Office\n",
       "1   BP-11185       Ben Peterman    Corporate\n",
       "2   JF-15415  Jennifer Ferguson     Consumer\n",
       "3   KB-16600        Ken Brennan    Corporate\n",
       "4   PO-18865  Patrick O'Donnell     Consumer"
      ]
     },
     "execution_count": 2347,
     "metadata": {},
     "output_type": "execute_result"
    }
   ],
   "source": [
    "# Validamos el resultado\n",
    "dimCliente.head()"
   ]
  },
  {
   "cell_type": "code",
   "execution_count": null,
   "id": "5896156d-46b0-4b1e-90c1-f237754308f2",
   "metadata": {},
   "outputs": [],
   "source": []
  },
  {
   "cell_type": "markdown",
   "id": "dedd6429-a6d8-4625-9984-4c9b2fed7381",
   "metadata": {},
   "source": [
    "**TABLA: dimVendedor**"
   ]
  },
  {
   "cell_type": "code",
   "execution_count": 2349,
   "id": "0320fcb0-ff15-4e16-9722-e6aa5dbc0114",
   "metadata": {},
   "outputs": [],
   "source": [
    "dimVendedor = df_ventas[[\"Retail Sales People\"]].copy()"
   ]
  },
  {
   "cell_type": "markdown",
   "id": "8ea3af88-5edf-4df7-b85e-9140377086fa",
   "metadata": {},
   "source": [
    "Solo disponemos de la columna con los nombres, debemos crear una columna de ID"
   ]
  },
  {
   "cell_type": "code",
   "execution_count": 2351,
   "id": "83b2a767-8930-4438-9a0e-cc0acc82557b",
   "metadata": {},
   "outputs": [],
   "source": [
    "# Eliminamos duplicados y reseteamos el indice\n",
    "dimVendedor = dimVendedor.drop_duplicates().reset_index(drop=True)"
   ]
  },
  {
   "cell_type": "code",
   "execution_count": 2352,
   "id": "84ce9d1e-2d44-4088-b207-41e935b411dd",
   "metadata": {},
   "outputs": [],
   "source": [
    "# Creamos el indice a partir del indice\n",
    "dimVendedor[\"SalesPersonID\"] = dimVendedor.index + 1"
   ]
  },
  {
   "cell_type": "code",
   "execution_count": 2353,
   "id": "2b906c1c-eb1c-497b-bd00-30e3bd9d984f",
   "metadata": {},
   "outputs": [],
   "source": [
    "# Renombramos las columnas\n",
    "dimVendedor = dimVendedor.rename(columns={\"Retail Sales People\":\"Name\"})"
   ]
  },
  {
   "cell_type": "code",
   "execution_count": 2354,
   "id": "687b12ea-0ef2-49a4-a64f-8df5a0369c5f",
   "metadata": {},
   "outputs": [
    {
     "data": {
      "text/html": [
       "<div>\n",
       "<style scoped>\n",
       "    .dataframe tbody tr th:only-of-type {\n",
       "        vertical-align: middle;\n",
       "    }\n",
       "\n",
       "    .dataframe tbody tr th {\n",
       "        vertical-align: top;\n",
       "    }\n",
       "\n",
       "    .dataframe thead th {\n",
       "        text-align: right;\n",
       "    }\n",
       "</style>\n",
       "<table border=\"1\" class=\"dataframe\">\n",
       "  <thead>\n",
       "    <tr style=\"text-align: right;\">\n",
       "      <th></th>\n",
       "      <th>Name</th>\n",
       "      <th>SalesPersonID</th>\n",
       "    </tr>\n",
       "  </thead>\n",
       "  <tbody>\n",
       "    <tr>\n",
       "      <th>0</th>\n",
       "      <td>Kelly Williams</td>\n",
       "      <td>1</td>\n",
       "    </tr>\n",
       "    <tr>\n",
       "      <th>1</th>\n",
       "      <td>Anna Andreadi</td>\n",
       "      <td>2</td>\n",
       "    </tr>\n",
       "    <tr>\n",
       "      <th>2</th>\n",
       "      <td>Chuck Magee</td>\n",
       "      <td>3</td>\n",
       "    </tr>\n",
       "    <tr>\n",
       "      <th>3</th>\n",
       "      <td>Cassandra Brandow</td>\n",
       "      <td>4</td>\n",
       "    </tr>\n",
       "  </tbody>\n",
       "</table>\n",
       "</div>"
      ],
      "text/plain": [
       "                Name  SalesPersonID\n",
       "0     Kelly Williams              1\n",
       "1      Anna Andreadi              2\n",
       "2        Chuck Magee              3\n",
       "3  Cassandra Brandow              4"
      ]
     },
     "execution_count": 2354,
     "metadata": {},
     "output_type": "execute_result"
    }
   ],
   "source": [
    "# Validamos el resultado\n",
    "dimVendedor.head()"
   ]
  },
  {
   "cell_type": "code",
   "execution_count": null,
   "id": "223e123a-b2c4-4319-bd44-accb2eea2046",
   "metadata": {},
   "outputs": [],
   "source": []
  },
  {
   "cell_type": "markdown",
   "id": "d9b95cea-fd9c-490e-a7b7-57ada61c58fa",
   "metadata": {},
   "source": [
    "**TABLA: dimModoEntrega**"
   ]
  },
  {
   "cell_type": "markdown",
   "id": "01e65107-86eb-47ac-976d-f230863d4429",
   "metadata": {},
   "source": [
    "Debemos crear una columna ID"
   ]
  },
  {
   "cell_type": "code",
   "execution_count": 2357,
   "id": "e9396e3b-e021-47ef-82ec-2350835b9724",
   "metadata": {},
   "outputs": [],
   "source": [
    "dimModoEntrega = df_ventas[[\"Ship Mode\"]].copy()"
   ]
  },
  {
   "cell_type": "code",
   "execution_count": 2358,
   "id": "5d1109a0-4242-4f01-9cb6-62714a6729db",
   "metadata": {},
   "outputs": [],
   "source": [
    "dimModoEntrega = dimModoEntrega.drop_duplicates().reset_index(drop=True)"
   ]
  },
  {
   "cell_type": "code",
   "execution_count": 2359,
   "id": "8a4c2178-3656-422d-b5eb-47709d16134b",
   "metadata": {},
   "outputs": [],
   "source": [
    "dimModoEntrega[\"ShipModeID\"] = dimModoEntrega.index + 1"
   ]
  },
  {
   "cell_type": "code",
   "execution_count": 2360,
   "id": "0751a388-40b2-4089-af6c-50c3cba72d58",
   "metadata": {},
   "outputs": [],
   "source": [
    "dimModoEntrega = dimModoEntrega.rename(columns={\"Ship Mode\":\"ShipMode\"})"
   ]
  },
  {
   "cell_type": "code",
   "execution_count": 2361,
   "id": "9319e3d2-2b3b-4bb8-ac47-5e8a01c78e16",
   "metadata": {},
   "outputs": [
    {
     "data": {
      "text/html": [
       "<div>\n",
       "<style scoped>\n",
       "    .dataframe tbody tr th:only-of-type {\n",
       "        vertical-align: middle;\n",
       "    }\n",
       "\n",
       "    .dataframe tbody tr th {\n",
       "        vertical-align: top;\n",
       "    }\n",
       "\n",
       "    .dataframe thead th {\n",
       "        text-align: right;\n",
       "    }\n",
       "</style>\n",
       "<table border=\"1\" class=\"dataframe\">\n",
       "  <thead>\n",
       "    <tr style=\"text-align: right;\">\n",
       "      <th></th>\n",
       "      <th>ShipMode</th>\n",
       "      <th>ShipModeID</th>\n",
       "    </tr>\n",
       "  </thead>\n",
       "  <tbody>\n",
       "    <tr>\n",
       "      <th>0</th>\n",
       "      <td>Standard Class</td>\n",
       "      <td>1</td>\n",
       "    </tr>\n",
       "    <tr>\n",
       "      <th>1</th>\n",
       "      <td>Second Class</td>\n",
       "      <td>2</td>\n",
       "    </tr>\n",
       "    <tr>\n",
       "      <th>2</th>\n",
       "      <td>First Class</td>\n",
       "      <td>3</td>\n",
       "    </tr>\n",
       "    <tr>\n",
       "      <th>3</th>\n",
       "      <td>Same Day</td>\n",
       "      <td>4</td>\n",
       "    </tr>\n",
       "  </tbody>\n",
       "</table>\n",
       "</div>"
      ],
      "text/plain": [
       "         ShipMode  ShipModeID\n",
       "0  Standard Class           1\n",
       "1    Second Class           2\n",
       "2     First Class           3\n",
       "3        Same Day           4"
      ]
     },
     "execution_count": 2361,
     "metadata": {},
     "output_type": "execute_result"
    }
   ],
   "source": [
    "dimModoEntrega.head()"
   ]
  },
  {
   "cell_type": "code",
   "execution_count": null,
   "id": "551c4211-6e3e-458b-a47d-e6a270d44d9e",
   "metadata": {},
   "outputs": [],
   "source": []
  },
  {
   "cell_type": "markdown",
   "id": "1c6161d6-5dd5-46e4-a332-0ccbffc9341a",
   "metadata": {},
   "source": [
    "**TABLA: dimRegion**"
   ]
  },
  {
   "cell_type": "code",
   "execution_count": 2363,
   "id": "ca1634a1-2680-49b7-b1bf-828899c3c6e3",
   "metadata": {},
   "outputs": [],
   "source": [
    "dimRegion = df_ventas[[\"Postal Code\", \"Country\", \"City\", \"Region\", \"State\"]].copy()"
   ]
  },
  {
   "cell_type": "code",
   "execution_count": 2364,
   "id": "adce10d0-1ad2-4947-a4fe-2f18dac28d2e",
   "metadata": {},
   "outputs": [],
   "source": [
    "dimRegion = dimRegion.drop_duplicates().reset_index(drop=True)"
   ]
  },
  {
   "cell_type": "code",
   "execution_count": 2365,
   "id": "f55b99d7-a512-4e92-b4e3-4a81d5b348d2",
   "metadata": {},
   "outputs": [
    {
     "data": {
      "text/plain": [
       "0"
      ]
     },
     "execution_count": 2365,
     "metadata": {},
     "output_type": "execute_result"
    }
   ],
   "source": [
    "dimRegion.duplicated().sum()"
   ]
  },
  {
   "cell_type": "code",
   "execution_count": 2366,
   "id": "60074e49-150c-4e9c-9ac0-504260bd6d15",
   "metadata": {},
   "outputs": [],
   "source": [
    "# Renombramos las columnas\n",
    "dimRegion = dimRegion.rename(columns={\"Postal Code\":\"PostalCode\"})"
   ]
  },
  {
   "cell_type": "code",
   "execution_count": 2367,
   "id": "c1aff244-6a0b-4b7f-8d47-fa8d3c6c81df",
   "metadata": {},
   "outputs": [],
   "source": [
    "# Creamos la columna RegionID\n",
    "dimRegion[\"RegionID\"] = dimRegion.index + 1"
   ]
  },
  {
   "cell_type": "code",
   "execution_count": 2368,
   "id": "8e988ad1-4d1b-4d39-8a13-120a1a0f2773",
   "metadata": {},
   "outputs": [
    {
     "data": {
      "text/html": [
       "<div>\n",
       "<style scoped>\n",
       "    .dataframe tbody tr th:only-of-type {\n",
       "        vertical-align: middle;\n",
       "    }\n",
       "\n",
       "    .dataframe tbody tr th {\n",
       "        vertical-align: top;\n",
       "    }\n",
       "\n",
       "    .dataframe thead th {\n",
       "        text-align: right;\n",
       "    }\n",
       "</style>\n",
       "<table border=\"1\" class=\"dataframe\">\n",
       "  <thead>\n",
       "    <tr style=\"text-align: right;\">\n",
       "      <th></th>\n",
       "      <th>PostalCode</th>\n",
       "      <th>Country</th>\n",
       "      <th>City</th>\n",
       "      <th>Region</th>\n",
       "      <th>State</th>\n",
       "      <th>RegionID</th>\n",
       "    </tr>\n",
       "  </thead>\n",
       "  <tbody>\n",
       "    <tr>\n",
       "      <th>0</th>\n",
       "      <td>47201</td>\n",
       "      <td>United States</td>\n",
       "      <td>Columbus</td>\n",
       "      <td>Central</td>\n",
       "      <td>Indiana</td>\n",
       "      <td>1</td>\n",
       "    </tr>\n",
       "    <tr>\n",
       "      <th>1</th>\n",
       "      <td>92804</td>\n",
       "      <td>United States</td>\n",
       "      <td>Anaheim</td>\n",
       "      <td>West</td>\n",
       "      <td>California</td>\n",
       "      <td>2</td>\n",
       "    </tr>\n",
       "    <tr>\n",
       "      <th>2</th>\n",
       "      <td>10024</td>\n",
       "      <td>United States</td>\n",
       "      <td>New York City</td>\n",
       "      <td>East</td>\n",
       "      <td>New York</td>\n",
       "      <td>3</td>\n",
       "    </tr>\n",
       "    <tr>\n",
       "      <th>3</th>\n",
       "      <td>49505</td>\n",
       "      <td>United States</td>\n",
       "      <td>Grand Rapids</td>\n",
       "      <td>Central</td>\n",
       "      <td>Michigan</td>\n",
       "      <td>4</td>\n",
       "    </tr>\n",
       "    <tr>\n",
       "      <th>4</th>\n",
       "      <td>10009</td>\n",
       "      <td>United States</td>\n",
       "      <td>New York City</td>\n",
       "      <td>East</td>\n",
       "      <td>New York</td>\n",
       "      <td>5</td>\n",
       "    </tr>\n",
       "  </tbody>\n",
       "</table>\n",
       "</div>"
      ],
      "text/plain": [
       "   PostalCode        Country           City   Region       State  RegionID\n",
       "0       47201  United States       Columbus  Central     Indiana         1\n",
       "1       92804  United States        Anaheim     West  California         2\n",
       "2       10024  United States  New York City     East    New York         3\n",
       "3       49505  United States   Grand Rapids  Central    Michigan         4\n",
       "4       10009  United States  New York City     East    New York         5"
      ]
     },
     "execution_count": 2368,
     "metadata": {},
     "output_type": "execute_result"
    }
   ],
   "source": [
    "dimRegion.head()"
   ]
  },
  {
   "cell_type": "code",
   "execution_count": null,
   "id": "10997e17-f513-42b7-9d88-56b5d7a3b5fe",
   "metadata": {},
   "outputs": [],
   "source": []
  },
  {
   "cell_type": "markdown",
   "id": "7693e9ad-115d-4fec-9a6b-3f6e29ac1aee",
   "metadata": {},
   "source": [
    "**TABLA: dimProducto**"
   ]
  },
  {
   "cell_type": "code",
   "execution_count": 2370,
   "id": "af468fa4-6d10-4751-ad26-9c2696b956be",
   "metadata": {},
   "outputs": [],
   "source": [
    "dimProducto = df_ventas[[\"Product ID\", \"Product Name\", \"Category\", \"Sub-Category\"]].copy()"
   ]
  },
  {
   "cell_type": "code",
   "execution_count": 2371,
   "id": "19e11481-6e31-47a6-afc8-f40a5e5102b2",
   "metadata": {},
   "outputs": [],
   "source": [
    "dimProducto = dimProducto.drop_duplicates().reset_index(drop=True)"
   ]
  },
  {
   "cell_type": "code",
   "execution_count": 2372,
   "id": "c382f61a-a03e-4630-acf8-fd8a7f26fbd0",
   "metadata": {},
   "outputs": [],
   "source": [
    "dimProducto[\"ProductID\"] = dimProducto.index + 1"
   ]
  },
  {
   "cell_type": "code",
   "execution_count": 2373,
   "id": "b66612d2-304a-48a1-afee-9215daa0343c",
   "metadata": {},
   "outputs": [],
   "source": [
    "# Renombramos las columnas\n",
    "dimProducto = dimProducto.rename(columns={\"Product ID\":\"Code\", \"Product Name\":\"Name\", \"Sub-Category\":\"SubCategory\"})"
   ]
  },
  {
   "cell_type": "code",
   "execution_count": 2374,
   "id": "8102eb40-d7ce-48a0-bc2e-27af49d51b41",
   "metadata": {},
   "outputs": [
    {
     "data": {
      "text/html": [
       "<div>\n",
       "<style scoped>\n",
       "    .dataframe tbody tr th:only-of-type {\n",
       "        vertical-align: middle;\n",
       "    }\n",
       "\n",
       "    .dataframe tbody tr th {\n",
       "        vertical-align: top;\n",
       "    }\n",
       "\n",
       "    .dataframe thead th {\n",
       "        text-align: right;\n",
       "    }\n",
       "</style>\n",
       "<table border=\"1\" class=\"dataframe\">\n",
       "  <thead>\n",
       "    <tr style=\"text-align: right;\">\n",
       "      <th></th>\n",
       "      <th>Code</th>\n",
       "      <th>Name</th>\n",
       "      <th>Category</th>\n",
       "      <th>SubCategory</th>\n",
       "      <th>ProductID</th>\n",
       "    </tr>\n",
       "  </thead>\n",
       "  <tbody>\n",
       "    <tr>\n",
       "      <th>0</th>\n",
       "      <td>OFF-AP-10002457</td>\n",
       "      <td>Eureka The Boss Plus 12-Amp Hard Box Upright V...</td>\n",
       "      <td>Office Supplies</td>\n",
       "      <td>Appliances</td>\n",
       "      <td>1</td>\n",
       "    </tr>\n",
       "    <tr>\n",
       "      <th>1</th>\n",
       "      <td>FUR-FU-10002501</td>\n",
       "      <td>Nu-Dell Executive Frame</td>\n",
       "      <td>Furniture</td>\n",
       "      <td>Furnishings</td>\n",
       "      <td>2</td>\n",
       "    </tr>\n",
       "    <tr>\n",
       "      <th>2</th>\n",
       "      <td>OFF-LA-10001297</td>\n",
       "      <td>Avery 473</td>\n",
       "      <td>Office Supplies</td>\n",
       "      <td>Labels</td>\n",
       "      <td>3</td>\n",
       "    </tr>\n",
       "    <tr>\n",
       "      <th>3</th>\n",
       "      <td>OFF-FA-10000585</td>\n",
       "      <td>OIC Bulk Pack Metal Binder Clips</td>\n",
       "      <td>Office Supplies</td>\n",
       "      <td>Fasteners</td>\n",
       "      <td>4</td>\n",
       "    </tr>\n",
       "    <tr>\n",
       "      <th>4</th>\n",
       "      <td>OFF-BI-10001922</td>\n",
       "      <td>Storex Dura Pro Binders</td>\n",
       "      <td>Office Supplies</td>\n",
       "      <td>Binders</td>\n",
       "      <td>5</td>\n",
       "    </tr>\n",
       "  </tbody>\n",
       "</table>\n",
       "</div>"
      ],
      "text/plain": [
       "              Code                                               Name  \\\n",
       "0  OFF-AP-10002457  Eureka The Boss Plus 12-Amp Hard Box Upright V...   \n",
       "1  FUR-FU-10002501                            Nu-Dell Executive Frame   \n",
       "2  OFF-LA-10001297                                          Avery 473   \n",
       "3  OFF-FA-10000585                   OIC Bulk Pack Metal Binder Clips   \n",
       "4  OFF-BI-10001922                            Storex Dura Pro Binders   \n",
       "\n",
       "          Category  SubCategory  ProductID  \n",
       "0  Office Supplies   Appliances          1  \n",
       "1        Furniture  Furnishings          2  \n",
       "2  Office Supplies       Labels          3  \n",
       "3  Office Supplies    Fasteners          4  \n",
       "4  Office Supplies      Binders          5  "
      ]
     },
     "execution_count": 2374,
     "metadata": {},
     "output_type": "execute_result"
    }
   ],
   "source": [
    "dimProducto.head()"
   ]
  },
  {
   "cell_type": "code",
   "execution_count": null,
   "id": "57836487-07f4-4776-ac6e-b29ebf03e758",
   "metadata": {},
   "outputs": [],
   "source": []
  },
  {
   "cell_type": "markdown",
   "id": "aad8fe5e-46b6-4fe3-8ab9-844614a9b2f6",
   "metadata": {},
   "source": [
    "**TABLA: factDetalles**"
   ]
  },
  {
   "cell_type": "code",
   "execution_count": 2376,
   "id": "9b1d3400-80eb-4de6-b5b5-d88be61deb46",
   "metadata": {},
   "outputs": [],
   "source": [
    "factDetalles = df_ventas[[\"Order ID\", \"Product ID\", \"Quantity\", \"Sales\", \"Discount\", \"Profit\"]].copy()"
   ]
  },
  {
   "cell_type": "code",
   "execution_count": 2377,
   "id": "bd108d36-c26e-45ba-86ef-792eee37a87a",
   "metadata": {},
   "outputs": [],
   "source": [
    "factDetalles.drop_duplicates(subset=[\"Order ID\", \"Product ID\"],inplace=True)"
   ]
  },
  {
   "cell_type": "code",
   "execution_count": 2378,
   "id": "9c0eb8de-e2ee-445b-80b2-615fe0ccf950",
   "metadata": {},
   "outputs": [],
   "source": [
    "# Obtenemos el indice de dimProducto\n",
    "factDetalles = factDetalles.merge(dimProducto, left_on=\"Product ID\", right_on=\"Code\")"
   ]
  },
  {
   "cell_type": "code",
   "execution_count": 2379,
   "id": "fa03f2da-37c2-423d-a38a-866b559d9f12",
   "metadata": {},
   "outputs": [],
   "source": [
    "del factDetalles[\"Product ID\"]\n",
    "del factDetalles[\"Code\"]\n",
    "del factDetalles[\"Name\"]\n",
    "del factDetalles[\"Category\"]\n",
    "del factDetalles[\"SubCategory\"]"
   ]
  },
  {
   "cell_type": "code",
   "execution_count": 2380,
   "id": "402f1829-f192-4054-ae96-2701005e4ef6",
   "metadata": {},
   "outputs": [],
   "source": [
    "factDetalles = factDetalles.rename(columns={\"Order ID\":\"OrderID\"})"
   ]
  },
  {
   "cell_type": "code",
   "execution_count": 2381,
   "id": "32964353-db47-462c-a5e1-1a759d37dc5d",
   "metadata": {},
   "outputs": [
    {
     "data": {
      "text/html": [
       "<div>\n",
       "<style scoped>\n",
       "    .dataframe tbody tr th:only-of-type {\n",
       "        vertical-align: middle;\n",
       "    }\n",
       "\n",
       "    .dataframe tbody tr th {\n",
       "        vertical-align: top;\n",
       "    }\n",
       "\n",
       "    .dataframe thead th {\n",
       "        text-align: right;\n",
       "    }\n",
       "</style>\n",
       "<table border=\"1\" class=\"dataframe\">\n",
       "  <thead>\n",
       "    <tr style=\"text-align: right;\">\n",
       "      <th></th>\n",
       "      <th>OrderID</th>\n",
       "      <th>Quantity</th>\n",
       "      <th>Sales</th>\n",
       "      <th>Discount</th>\n",
       "      <th>Profit</th>\n",
       "      <th>ProductID</th>\n",
       "    </tr>\n",
       "  </thead>\n",
       "  <tbody>\n",
       "    <tr>\n",
       "      <th>10319</th>\n",
       "      <td>CA-2014-162775</td>\n",
       "      <td>3</td>\n",
       "      <td>5.64</td>\n",
       "      <td>0.0</td>\n",
       "      <td>3.384</td>\n",
       "      <td>1497</td>\n",
       "    </tr>\n",
       "    <tr>\n",
       "      <th>10320</th>\n",
       "      <td>CA-2014-162775</td>\n",
       "      <td>6</td>\n",
       "      <td>572.58</td>\n",
       "      <td>0.0</td>\n",
       "      <td>343.548</td>\n",
       "      <td>902</td>\n",
       "    </tr>\n",
       "    <tr>\n",
       "      <th>10321</th>\n",
       "      <td>CA-2014-149524</td>\n",
       "      <td>4</td>\n",
       "      <td>61.96</td>\n",
       "      <td>0.5</td>\n",
       "      <td>37.176</td>\n",
       "      <td>1447</td>\n",
       "    </tr>\n",
       "  </tbody>\n",
       "</table>\n",
       "</div>"
      ],
      "text/plain": [
       "              OrderID  Quantity   Sales  Discount   Profit  ProductID\n",
       "10319  CA-2014-162775         3    5.64       0.0    3.384       1497\n",
       "10320  CA-2014-162775         6  572.58       0.0  343.548        902\n",
       "10321  CA-2014-149524         4   61.96       0.5   37.176       1447"
      ]
     },
     "execution_count": 2381,
     "metadata": {},
     "output_type": "execute_result"
    }
   ],
   "source": [
    "factDetalles.tail(3)"
   ]
  },
  {
   "cell_type": "code",
   "execution_count": null,
   "id": "4f9d3e54-a4a7-45ed-b047-2b3835ff0734",
   "metadata": {},
   "outputs": [],
   "source": []
  },
  {
   "cell_type": "markdown",
   "id": "a1511428-728e-4812-ace5-85429cbb9468",
   "metadata": {},
   "source": [
    "**TABLA: factVentas**"
   ]
  },
  {
   "cell_type": "code",
   "execution_count": 2383,
   "id": "9d6c7b0e-0ab5-4175-b826-0f6e959f0a9a",
   "metadata": {},
   "outputs": [],
   "source": [
    "temp_ventas = df_ventas[[\"Row ID\", \"Customer ID\", \"Retail Sales People\", \"Order ID\", \"Ship Mode\", \"Postal Code\", \"Order Date\", \"Returned\", \"Ship Date\"]].copy()"
   ]
  },
  {
   "cell_type": "markdown",
   "id": "be378d39-3f61-4f9a-a0fe-7b6ffbb5bcdb",
   "metadata": {},
   "source": [
    "Las columnas *Retail Sales People*, *Ship Mode* y *Order ID* deben ser cambiadas por los respectivos IDs creados en las tablas de dimensión.  \n",
    "Para ello haremos un merge."
   ]
  },
  {
   "cell_type": "code",
   "execution_count": 2385,
   "id": "22b7cee5-ac8a-4be5-b9b9-14604c077c6f",
   "metadata": {},
   "outputs": [],
   "source": [
    "temp_ventas = temp_ventas.merge(dimVendedor, left_on= \"Retail Sales People\", right_on=\"Name\")"
   ]
  },
  {
   "cell_type": "code",
   "execution_count": 2386,
   "id": "f44ff619-c780-441a-a601-cbe6094ff75e",
   "metadata": {},
   "outputs": [],
   "source": [
    "del temp_ventas[\"Name\"]\n",
    "del temp_ventas[\"Retail Sales People\"]"
   ]
  },
  {
   "cell_type": "code",
   "execution_count": 2387,
   "id": "60a0b0c3-2806-421f-9176-8cd350278e48",
   "metadata": {},
   "outputs": [
    {
     "data": {
      "text/html": [
       "<div>\n",
       "<style scoped>\n",
       "    .dataframe tbody tr th:only-of-type {\n",
       "        vertical-align: middle;\n",
       "    }\n",
       "\n",
       "    .dataframe tbody tr th {\n",
       "        vertical-align: top;\n",
       "    }\n",
       "\n",
       "    .dataframe thead th {\n",
       "        text-align: right;\n",
       "    }\n",
       "</style>\n",
       "<table border=\"1\" class=\"dataframe\">\n",
       "  <thead>\n",
       "    <tr style=\"text-align: right;\">\n",
       "      <th></th>\n",
       "      <th>Row ID</th>\n",
       "      <th>Customer ID</th>\n",
       "      <th>Order ID</th>\n",
       "      <th>Ship Mode</th>\n",
       "      <th>Postal Code</th>\n",
       "      <th>Order Date</th>\n",
       "      <th>Returned</th>\n",
       "      <th>Ship Date</th>\n",
       "      <th>SalesPersonID</th>\n",
       "    </tr>\n",
       "  </thead>\n",
       "  <tbody>\n",
       "    <tr>\n",
       "      <th>9992</th>\n",
       "      <td>768</td>\n",
       "      <td>CS-12250</td>\n",
       "      <td>CA-2014-162775</td>\n",
       "      <td>Second Class</td>\n",
       "      <td>71111</td>\n",
       "      <td>2014-01-13</td>\n",
       "      <td>Not</td>\n",
       "      <td>2014-01-15</td>\n",
       "      <td>4</td>\n",
       "    </tr>\n",
       "    <tr>\n",
       "      <th>9993</th>\n",
       "      <td>6475</td>\n",
       "      <td>BS-11590</td>\n",
       "      <td>CA-2014-149524</td>\n",
       "      <td>First Class</td>\n",
       "      <td>19140</td>\n",
       "      <td>2014-01-14</td>\n",
       "      <td>Not</td>\n",
       "      <td>2014-01-15</td>\n",
       "      <td>3</td>\n",
       "    </tr>\n",
       "  </tbody>\n",
       "</table>\n",
       "</div>"
      ],
      "text/plain": [
       "      Row ID Customer ID        Order ID     Ship Mode  Postal Code  \\\n",
       "9992     768    CS-12250  CA-2014-162775  Second Class        71111   \n",
       "9993    6475    BS-11590  CA-2014-149524   First Class        19140   \n",
       "\n",
       "     Order Date Returned  Ship Date  SalesPersonID  \n",
       "9992 2014-01-13      Not 2014-01-15              4  \n",
       "9993 2014-01-14      Not 2014-01-15              3  "
      ]
     },
     "execution_count": 2387,
     "metadata": {},
     "output_type": "execute_result"
    }
   ],
   "source": [
    "temp_ventas.tail(2)"
   ]
  },
  {
   "cell_type": "code",
   "execution_count": 2388,
   "id": "7e0a35fd-a197-473a-8790-344c0c7fc75e",
   "metadata": {},
   "outputs": [],
   "source": [
    "temp_ventas = temp_ventas.merge(dimModoEntrega, left_on=\"Ship Mode\", right_on=\"ShipMode\")"
   ]
  },
  {
   "cell_type": "code",
   "execution_count": 2389,
   "id": "f0d2b369-4cf8-4ce7-9fae-1543051a7caf",
   "metadata": {},
   "outputs": [],
   "source": [
    "del temp_ventas[\"Ship Mode\"]\n",
    "del temp_ventas[\"ShipMode\"]"
   ]
  },
  {
   "cell_type": "code",
   "execution_count": 2390,
   "id": "d45241b6-41f8-4a54-b203-172bb18a44bb",
   "metadata": {},
   "outputs": [],
   "source": [
    "temp_ventas = temp_ventas.merge(dimRegion, left_on=\"Postal Code\", right_on=\"PostalCode\")"
   ]
  },
  {
   "cell_type": "code",
   "execution_count": 2391,
   "id": "062257e7-18b9-46d6-a99b-d3d56884de7a",
   "metadata": {},
   "outputs": [],
   "source": [
    "del temp_ventas[\"Postal Code\"]\n",
    "del temp_ventas[\"PostalCode\"]\n",
    "del temp_ventas[\"Country\"]\n",
    "del temp_ventas[\"City\"]\n",
    "del temp_ventas[\"Region\"]\n",
    "del temp_ventas[\"State\"]"
   ]
  },
  {
   "cell_type": "code",
   "execution_count": 2392,
   "id": "288390bb-6eb8-4e5b-8289-66c03a228582",
   "metadata": {},
   "outputs": [],
   "source": [
    "factVentas = temp_ventas.reset_index(drop=True).copy()"
   ]
  },
  {
   "cell_type": "code",
   "execution_count": 2393,
   "id": "0b3e960c-53f8-4eb6-81db-f51efcd166fe",
   "metadata": {},
   "outputs": [],
   "source": [
    "factVentas = factVentas.rename(columns={\"Row ID\":\"RowID\", \"Customer ID\":\"CustomerID\", \"Order ID\":\"OrderID\", \"Order Date\":\"OrderDate\", \"Ship Date\":\"ShipDate\"})"
   ]
  },
  {
   "cell_type": "markdown",
   "id": "168f2311-990a-4793-9cb7-8498cb569b87",
   "metadata": {},
   "source": [
    "factDetalles funciona como tabla puente entre factVentas y dimProducto, por lo tanto la columna *RowID* no tiene sentido en este modelo de datos, lo borraremos y eliminaremos duplicados. OrderID quedaría como PK en factVentas y parte de la clave combinada en factDetalles"
   ]
  },
  {
   "cell_type": "code",
   "execution_count": 2395,
   "id": "681728f0-e3e3-4163-a3a6-313dc675f963",
   "metadata": {},
   "outputs": [],
   "source": [
    "del factVentas[\"RowID\"]"
   ]
  },
  {
   "cell_type": "code",
   "execution_count": 2396,
   "id": "60df7b7b-3c21-450a-9bf2-6bc45ae9e8d5",
   "metadata": {},
   "outputs": [
    {
     "name": "stdout",
     "output_type": "stream",
     "text": [
      "Valores duplicados: 5001\n"
     ]
    }
   ],
   "source": [
    "print(\"Valores duplicados:\", factVentas.duplicated().sum())"
   ]
  },
  {
   "cell_type": "code",
   "execution_count": 2397,
   "id": "2f7b2652-61cf-4f48-b70c-c06bba363421",
   "metadata": {},
   "outputs": [],
   "source": [
    "factVentas = factVentas.drop_duplicates().reset_index(drop=True)"
   ]
  },
  {
   "cell_type": "code",
   "execution_count": null,
   "id": "70fd4b08-e583-457e-8f46-202cdfbb8af8",
   "metadata": {},
   "outputs": [],
   "source": []
  },
  {
   "cell_type": "code",
   "execution_count": 2398,
   "id": "b1feaae1-58a0-4104-a898-6a47b7386759",
   "metadata": {},
   "outputs": [
    {
     "data": {
      "text/html": [
       "<div>\n",
       "<style scoped>\n",
       "    .dataframe tbody tr th:only-of-type {\n",
       "        vertical-align: middle;\n",
       "    }\n",
       "\n",
       "    .dataframe tbody tr th {\n",
       "        vertical-align: top;\n",
       "    }\n",
       "\n",
       "    .dataframe thead th {\n",
       "        text-align: right;\n",
       "    }\n",
       "</style>\n",
       "<table border=\"1\" class=\"dataframe\">\n",
       "  <thead>\n",
       "    <tr style=\"text-align: right;\">\n",
       "      <th></th>\n",
       "      <th>CustomerID</th>\n",
       "      <th>OrderID</th>\n",
       "      <th>OrderDate</th>\n",
       "      <th>Returned</th>\n",
       "      <th>ShipDate</th>\n",
       "      <th>SalesPersonID</th>\n",
       "      <th>ShipModeID</th>\n",
       "      <th>RegionID</th>\n",
       "    </tr>\n",
       "  </thead>\n",
       "  <tbody>\n",
       "    <tr>\n",
       "      <th>5029</th>\n",
       "      <td>ND-18370</td>\n",
       "      <td>CA-2014-109232</td>\n",
       "      <td>2014-01-13</td>\n",
       "      <td>Not</td>\n",
       "      <td>2014-01-16</td>\n",
       "      <td>4</td>\n",
       "      <td>2</td>\n",
       "      <td>632</td>\n",
       "    </tr>\n",
       "    <tr>\n",
       "      <th>5030</th>\n",
       "      <td>CS-12250</td>\n",
       "      <td>CA-2014-162775</td>\n",
       "      <td>2014-01-13</td>\n",
       "      <td>Not</td>\n",
       "      <td>2014-01-15</td>\n",
       "      <td>4</td>\n",
       "      <td>2</td>\n",
       "      <td>617</td>\n",
       "    </tr>\n",
       "    <tr>\n",
       "      <th>5031</th>\n",
       "      <td>BS-11590</td>\n",
       "      <td>CA-2014-149524</td>\n",
       "      <td>2014-01-14</td>\n",
       "      <td>Not</td>\n",
       "      <td>2014-01-15</td>\n",
       "      <td>3</td>\n",
       "      <td>3</td>\n",
       "      <td>95</td>\n",
       "    </tr>\n",
       "  </tbody>\n",
       "</table>\n",
       "</div>"
      ],
      "text/plain": [
       "     CustomerID         OrderID  OrderDate Returned   ShipDate  SalesPersonID  \\\n",
       "5029   ND-18370  CA-2014-109232 2014-01-13      Not 2014-01-16              4   \n",
       "5030   CS-12250  CA-2014-162775 2014-01-13      Not 2014-01-15              4   \n",
       "5031   BS-11590  CA-2014-149524 2014-01-14      Not 2014-01-15              3   \n",
       "\n",
       "      ShipModeID  RegionID  \n",
       "5029           2       632  \n",
       "5030           2       617  \n",
       "5031           3        95  "
      ]
     },
     "execution_count": 2398,
     "metadata": {},
     "output_type": "execute_result"
    }
   ],
   "source": [
    "factVentas.tail(3)"
   ]
  },
  {
   "cell_type": "code",
   "execution_count": 2500,
   "id": "0e9219cc-36cd-4046-a66d-d234ebb8bd2d",
   "metadata": {},
   "outputs": [
    {
     "name": "stdout",
     "output_type": "stream",
     "text": [
      "Cantidad de valores duplicados: 23\n"
     ]
    }
   ],
   "source": [
    "print(\"Cantidad de valores duplicados:\",factVentas.OrderID.duplicated().sum())"
   ]
  },
  {
   "cell_type": "code",
   "execution_count": 2510,
   "id": "d83f5618-d29f-4602-9049-920f57574527",
   "metadata": {},
   "outputs": [
    {
     "data": {
      "text/html": [
       "<div>\n",
       "<style scoped>\n",
       "    .dataframe tbody tr th:only-of-type {\n",
       "        vertical-align: middle;\n",
       "    }\n",
       "\n",
       "    .dataframe tbody tr th {\n",
       "        vertical-align: top;\n",
       "    }\n",
       "\n",
       "    .dataframe thead th {\n",
       "        text-align: right;\n",
       "    }\n",
       "</style>\n",
       "<table border=\"1\" class=\"dataframe\">\n",
       "  <thead>\n",
       "    <tr style=\"text-align: right;\">\n",
       "      <th></th>\n",
       "      <th>CustomerID</th>\n",
       "      <th>OrderID</th>\n",
       "      <th>OrderDate</th>\n",
       "      <th>Returned</th>\n",
       "      <th>ShipDate</th>\n",
       "      <th>SalesPersonID</th>\n",
       "      <th>ShipModeID</th>\n",
       "      <th>RegionID</th>\n",
       "    </tr>\n",
       "  </thead>\n",
       "  <tbody>\n",
       "    <tr>\n",
       "      <th>78</th>\n",
       "      <td>RA-19915</td>\n",
       "      <td>CA-2017-140585</td>\n",
       "      <td>2017-12-18</td>\n",
       "      <td>Yes</td>\n",
       "      <td>2017-12-23</td>\n",
       "      <td>2</td>\n",
       "      <td>2</td>\n",
       "      <td>65</td>\n",
       "    </tr>\n",
       "    <tr>\n",
       "      <th>79</th>\n",
       "      <td>RA-19915</td>\n",
       "      <td>CA-2017-140585</td>\n",
       "      <td>2017-12-18</td>\n",
       "      <td>Yes</td>\n",
       "      <td>2017-12-23</td>\n",
       "      <td>2</td>\n",
       "      <td>2</td>\n",
       "      <td>84</td>\n",
       "    </tr>\n",
       "    <tr>\n",
       "      <th>108</th>\n",
       "      <td>MP-18175</td>\n",
       "      <td>CA-2017-169859</td>\n",
       "      <td>2017-12-14</td>\n",
       "      <td>Yes</td>\n",
       "      <td>2017-12-18</td>\n",
       "      <td>2</td>\n",
       "      <td>1</td>\n",
       "      <td>65</td>\n",
       "    </tr>\n",
       "    <tr>\n",
       "      <th>109</th>\n",
       "      <td>MP-18175</td>\n",
       "      <td>CA-2017-169859</td>\n",
       "      <td>2017-12-14</td>\n",
       "      <td>Yes</td>\n",
       "      <td>2017-12-18</td>\n",
       "      <td>2</td>\n",
       "      <td>1</td>\n",
       "      <td>84</td>\n",
       "    </tr>\n",
       "    <tr>\n",
       "      <th>1083</th>\n",
       "      <td>SW-20455</td>\n",
       "      <td>CA-2017-145429</td>\n",
       "      <td>2017-07-21</td>\n",
       "      <td>Not</td>\n",
       "      <td>2017-07-25</td>\n",
       "      <td>2</td>\n",
       "      <td>1</td>\n",
       "      <td>65</td>\n",
       "    </tr>\n",
       "    <tr>\n",
       "      <th>1084</th>\n",
       "      <td>SW-20455</td>\n",
       "      <td>CA-2017-145429</td>\n",
       "      <td>2017-07-21</td>\n",
       "      <td>Not</td>\n",
       "      <td>2017-07-25</td>\n",
       "      <td>2</td>\n",
       "      <td>1</td>\n",
       "      <td>84</td>\n",
       "    </tr>\n",
       "    <tr>\n",
       "      <th>1111</th>\n",
       "      <td>NP-18325</td>\n",
       "      <td>CA-2017-126865</td>\n",
       "      <td>2017-05-12</td>\n",
       "      <td>Not</td>\n",
       "      <td>2017-07-12</td>\n",
       "      <td>2</td>\n",
       "      <td>2</td>\n",
       "      <td>65</td>\n",
       "    </tr>\n",
       "    <tr>\n",
       "      <th>1112</th>\n",
       "      <td>NP-18325</td>\n",
       "      <td>CA-2017-126865</td>\n",
       "      <td>2017-05-12</td>\n",
       "      <td>Not</td>\n",
       "      <td>2017-07-12</td>\n",
       "      <td>2</td>\n",
       "      <td>2</td>\n",
       "      <td>84</td>\n",
       "    </tr>\n",
       "    <tr>\n",
       "      <th>1602</th>\n",
       "      <td>TC-21295</td>\n",
       "      <td>CA-2017-136875</td>\n",
       "      <td>2017-03-12</td>\n",
       "      <td>Not</td>\n",
       "      <td>2017-03-12</td>\n",
       "      <td>2</td>\n",
       "      <td>4</td>\n",
       "      <td>65</td>\n",
       "    </tr>\n",
       "    <tr>\n",
       "      <th>1603</th>\n",
       "      <td>TC-21295</td>\n",
       "      <td>CA-2017-136875</td>\n",
       "      <td>2017-03-12</td>\n",
       "      <td>Not</td>\n",
       "      <td>2017-03-12</td>\n",
       "      <td>2</td>\n",
       "      <td>4</td>\n",
       "      <td>84</td>\n",
       "    </tr>\n",
       "    <tr>\n",
       "      <th>1759</th>\n",
       "      <td>TN-21040</td>\n",
       "      <td>CA-2016-155446</td>\n",
       "      <td>2016-12-16</td>\n",
       "      <td>Not</td>\n",
       "      <td>2016-12-23</td>\n",
       "      <td>2</td>\n",
       "      <td>1</td>\n",
       "      <td>65</td>\n",
       "    </tr>\n",
       "    <tr>\n",
       "      <th>1760</th>\n",
       "      <td>TN-21040</td>\n",
       "      <td>CA-2016-155446</td>\n",
       "      <td>2016-12-16</td>\n",
       "      <td>Not</td>\n",
       "      <td>2016-12-23</td>\n",
       "      <td>2</td>\n",
       "      <td>1</td>\n",
       "      <td>84</td>\n",
       "    </tr>\n",
       "    <tr>\n",
       "      <th>1831</th>\n",
       "      <td>DW-13480</td>\n",
       "      <td>CA-2016-164399</td>\n",
       "      <td>2016-12-11</td>\n",
       "      <td>Not</td>\n",
       "      <td>2016-12-11</td>\n",
       "      <td>2</td>\n",
       "      <td>3</td>\n",
       "      <td>65</td>\n",
       "    </tr>\n",
       "    <tr>\n",
       "      <th>1832</th>\n",
       "      <td>DW-13480</td>\n",
       "      <td>CA-2016-164399</td>\n",
       "      <td>2016-12-11</td>\n",
       "      <td>Not</td>\n",
       "      <td>2016-12-11</td>\n",
       "      <td>2</td>\n",
       "      <td>3</td>\n",
       "      <td>84</td>\n",
       "    </tr>\n",
       "    <tr>\n",
       "      <th>1990</th>\n",
       "      <td>AH-10690</td>\n",
       "      <td>CA-2016-148740</td>\n",
       "      <td>2016-11-15</td>\n",
       "      <td>Not</td>\n",
       "      <td>2016-11-19</td>\n",
       "      <td>2</td>\n",
       "      <td>1</td>\n",
       "      <td>65</td>\n",
       "    </tr>\n",
       "    <tr>\n",
       "      <th>1991</th>\n",
       "      <td>AH-10690</td>\n",
       "      <td>CA-2016-148740</td>\n",
       "      <td>2016-11-15</td>\n",
       "      <td>Not</td>\n",
       "      <td>2016-11-19</td>\n",
       "      <td>2</td>\n",
       "      <td>1</td>\n",
       "      <td>84</td>\n",
       "    </tr>\n",
       "    <tr>\n",
       "      <th>2214</th>\n",
       "      <td>MG-17890</td>\n",
       "      <td>CA-2016-154053</td>\n",
       "      <td>2016-04-03</td>\n",
       "      <td>Not</td>\n",
       "      <td>2016-10-03</td>\n",
       "      <td>2</td>\n",
       "      <td>1</td>\n",
       "      <td>65</td>\n",
       "    </tr>\n",
       "    <tr>\n",
       "      <th>2215</th>\n",
       "      <td>MG-17890</td>\n",
       "      <td>CA-2016-154053</td>\n",
       "      <td>2016-04-03</td>\n",
       "      <td>Not</td>\n",
       "      <td>2016-10-03</td>\n",
       "      <td>2</td>\n",
       "      <td>1</td>\n",
       "      <td>84</td>\n",
       "    </tr>\n",
       "    <tr>\n",
       "      <th>2492</th>\n",
       "      <td>DM-13015</td>\n",
       "      <td>CA-2016-160500</td>\n",
       "      <td>2016-05-05</td>\n",
       "      <td>Not</td>\n",
       "      <td>2016-08-05</td>\n",
       "      <td>2</td>\n",
       "      <td>3</td>\n",
       "      <td>65</td>\n",
       "    </tr>\n",
       "    <tr>\n",
       "      <th>2493</th>\n",
       "      <td>DM-13015</td>\n",
       "      <td>CA-2016-160500</td>\n",
       "      <td>2016-05-05</td>\n",
       "      <td>Not</td>\n",
       "      <td>2016-08-05</td>\n",
       "      <td>2</td>\n",
       "      <td>3</td>\n",
       "      <td>84</td>\n",
       "    </tr>\n",
       "    <tr>\n",
       "      <th>2644</th>\n",
       "      <td>BD-11320</td>\n",
       "      <td>CA-2016-130680</td>\n",
       "      <td>2016-06-24</td>\n",
       "      <td>Yes</td>\n",
       "      <td>2016-06-29</td>\n",
       "      <td>2</td>\n",
       "      <td>1</td>\n",
       "      <td>65</td>\n",
       "    </tr>\n",
       "    <tr>\n",
       "      <th>2645</th>\n",
       "      <td>BD-11320</td>\n",
       "      <td>CA-2016-130680</td>\n",
       "      <td>2016-06-24</td>\n",
       "      <td>Yes</td>\n",
       "      <td>2016-06-29</td>\n",
       "      <td>2</td>\n",
       "      <td>1</td>\n",
       "      <td>84</td>\n",
       "    </tr>\n",
       "    <tr>\n",
       "      <th>2671</th>\n",
       "      <td>IG-15085</td>\n",
       "      <td>CA-2016-159345</td>\n",
       "      <td>2016-06-17</td>\n",
       "      <td>Yes</td>\n",
       "      <td>2016-06-22</td>\n",
       "      <td>2</td>\n",
       "      <td>1</td>\n",
       "      <td>65</td>\n",
       "    </tr>\n",
       "    <tr>\n",
       "      <th>2672</th>\n",
       "      <td>IG-15085</td>\n",
       "      <td>CA-2016-159345</td>\n",
       "      <td>2016-06-17</td>\n",
       "      <td>Yes</td>\n",
       "      <td>2016-06-22</td>\n",
       "      <td>2</td>\n",
       "      <td>1</td>\n",
       "      <td>84</td>\n",
       "    </tr>\n",
       "    <tr>\n",
       "      <th>3262</th>\n",
       "      <td>CS-12250</td>\n",
       "      <td>CA-2015-136420</td>\n",
       "      <td>2015-11-20</td>\n",
       "      <td>Not</td>\n",
       "      <td>2015-11-21</td>\n",
       "      <td>2</td>\n",
       "      <td>3</td>\n",
       "      <td>65</td>\n",
       "    </tr>\n",
       "    <tr>\n",
       "      <th>3263</th>\n",
       "      <td>CS-12250</td>\n",
       "      <td>CA-2015-136420</td>\n",
       "      <td>2015-11-20</td>\n",
       "      <td>Not</td>\n",
       "      <td>2015-11-21</td>\n",
       "      <td>2</td>\n",
       "      <td>3</td>\n",
       "      <td>84</td>\n",
       "    </tr>\n",
       "    <tr>\n",
       "      <th>3323</th>\n",
       "      <td>SB-20290</td>\n",
       "      <td>CA-2015-153794</td>\n",
       "      <td>2015-11-09</td>\n",
       "      <td>Not</td>\n",
       "      <td>2015-11-09</td>\n",
       "      <td>2</td>\n",
       "      <td>1</td>\n",
       "      <td>65</td>\n",
       "    </tr>\n",
       "    <tr>\n",
       "      <th>3324</th>\n",
       "      <td>SB-20290</td>\n",
       "      <td>CA-2015-153794</td>\n",
       "      <td>2015-11-09</td>\n",
       "      <td>Not</td>\n",
       "      <td>2015-11-09</td>\n",
       "      <td>2</td>\n",
       "      <td>1</td>\n",
       "      <td>84</td>\n",
       "    </tr>\n",
       "    <tr>\n",
       "      <th>3412</th>\n",
       "      <td>MZ-17335</td>\n",
       "      <td>CA-2015-117611</td>\n",
       "      <td>2015-08-11</td>\n",
       "      <td>Not</td>\n",
       "      <td>2015-10-11</td>\n",
       "      <td>2</td>\n",
       "      <td>2</td>\n",
       "      <td>65</td>\n",
       "    </tr>\n",
       "    <tr>\n",
       "      <th>3413</th>\n",
       "      <td>MZ-17335</td>\n",
       "      <td>CA-2015-117611</td>\n",
       "      <td>2015-08-11</td>\n",
       "      <td>Not</td>\n",
       "      <td>2015-10-11</td>\n",
       "      <td>2</td>\n",
       "      <td>2</td>\n",
       "      <td>84</td>\n",
       "    </tr>\n",
       "    <tr>\n",
       "      <th>3683</th>\n",
       "      <td>JP-16135</td>\n",
       "      <td>CA-2015-152513</td>\n",
       "      <td>2015-04-07</td>\n",
       "      <td>Not</td>\n",
       "      <td>2015-08-07</td>\n",
       "      <td>2</td>\n",
       "      <td>2</td>\n",
       "      <td>65</td>\n",
       "    </tr>\n",
       "    <tr>\n",
       "      <th>3684</th>\n",
       "      <td>JP-16135</td>\n",
       "      <td>CA-2015-152513</td>\n",
       "      <td>2015-04-07</td>\n",
       "      <td>Not</td>\n",
       "      <td>2015-08-07</td>\n",
       "      <td>2</td>\n",
       "      <td>2</td>\n",
       "      <td>84</td>\n",
       "    </tr>\n",
       "    <tr>\n",
       "      <th>4091</th>\n",
       "      <td>CK-12595</td>\n",
       "      <td>CA-2014-106264</td>\n",
       "      <td>2014-12-26</td>\n",
       "      <td>Not</td>\n",
       "      <td>2014-12-30</td>\n",
       "      <td>2</td>\n",
       "      <td>1</td>\n",
       "      <td>65</td>\n",
       "    </tr>\n",
       "    <tr>\n",
       "      <th>4092</th>\n",
       "      <td>CK-12595</td>\n",
       "      <td>CA-2014-106264</td>\n",
       "      <td>2014-12-26</td>\n",
       "      <td>Not</td>\n",
       "      <td>2014-12-30</td>\n",
       "      <td>2</td>\n",
       "      <td>1</td>\n",
       "      <td>84</td>\n",
       "    </tr>\n",
       "    <tr>\n",
       "      <th>4105</th>\n",
       "      <td>GM-14440</td>\n",
       "      <td>CA-2014-154893</td>\n",
       "      <td>2014-12-21</td>\n",
       "      <td>Not</td>\n",
       "      <td>2014-12-27</td>\n",
       "      <td>2</td>\n",
       "      <td>1</td>\n",
       "      <td>65</td>\n",
       "    </tr>\n",
       "    <tr>\n",
       "      <th>4106</th>\n",
       "      <td>GM-14440</td>\n",
       "      <td>CA-2014-154893</td>\n",
       "      <td>2014-12-21</td>\n",
       "      <td>Not</td>\n",
       "      <td>2014-12-27</td>\n",
       "      <td>2</td>\n",
       "      <td>1</td>\n",
       "      <td>84</td>\n",
       "    </tr>\n",
       "    <tr>\n",
       "      <th>4397</th>\n",
       "      <td>SF-20965</td>\n",
       "      <td>CA-2014-169852</td>\n",
       "      <td>2014-10-21</td>\n",
       "      <td>Not</td>\n",
       "      <td>2014-10-26</td>\n",
       "      <td>2</td>\n",
       "      <td>1</td>\n",
       "      <td>65</td>\n",
       "    </tr>\n",
       "    <tr>\n",
       "      <th>4398</th>\n",
       "      <td>SF-20965</td>\n",
       "      <td>CA-2014-169852</td>\n",
       "      <td>2014-10-21</td>\n",
       "      <td>Not</td>\n",
       "      <td>2014-10-26</td>\n",
       "      <td>2</td>\n",
       "      <td>1</td>\n",
       "      <td>84</td>\n",
       "    </tr>\n",
       "    <tr>\n",
       "      <th>4442</th>\n",
       "      <td>XP-21865</td>\n",
       "      <td>CA-2014-134677</td>\n",
       "      <td>2014-06-10</td>\n",
       "      <td>Not</td>\n",
       "      <td>2014-10-10</td>\n",
       "      <td>2</td>\n",
       "      <td>1</td>\n",
       "      <td>65</td>\n",
       "    </tr>\n",
       "    <tr>\n",
       "      <th>4443</th>\n",
       "      <td>XP-21865</td>\n",
       "      <td>CA-2014-134677</td>\n",
       "      <td>2014-06-10</td>\n",
       "      <td>Not</td>\n",
       "      <td>2014-10-10</td>\n",
       "      <td>2</td>\n",
       "      <td>1</td>\n",
       "      <td>84</td>\n",
       "    </tr>\n",
       "    <tr>\n",
       "      <th>4524</th>\n",
       "      <td>HG-14965</td>\n",
       "      <td>CA-2014-126480</td>\n",
       "      <td>2014-09-20</td>\n",
       "      <td>Not</td>\n",
       "      <td>2014-09-24</td>\n",
       "      <td>2</td>\n",
       "      <td>1</td>\n",
       "      <td>65</td>\n",
       "    </tr>\n",
       "    <tr>\n",
       "      <th>4525</th>\n",
       "      <td>HG-14965</td>\n",
       "      <td>CA-2014-126480</td>\n",
       "      <td>2014-09-20</td>\n",
       "      <td>Not</td>\n",
       "      <td>2014-09-24</td>\n",
       "      <td>2</td>\n",
       "      <td>1</td>\n",
       "      <td>84</td>\n",
       "    </tr>\n",
       "    <tr>\n",
       "      <th>4651</th>\n",
       "      <td>LR-16915</td>\n",
       "      <td>CA-2014-131450</td>\n",
       "      <td>2014-08-08</td>\n",
       "      <td>Not</td>\n",
       "      <td>2014-08-15</td>\n",
       "      <td>2</td>\n",
       "      <td>1</td>\n",
       "      <td>65</td>\n",
       "    </tr>\n",
       "    <tr>\n",
       "      <th>4652</th>\n",
       "      <td>LR-16915</td>\n",
       "      <td>CA-2014-131450</td>\n",
       "      <td>2014-08-08</td>\n",
       "      <td>Not</td>\n",
       "      <td>2014-08-15</td>\n",
       "      <td>2</td>\n",
       "      <td>1</td>\n",
       "      <td>84</td>\n",
       "    </tr>\n",
       "    <tr>\n",
       "      <th>4695</th>\n",
       "      <td>DB-13270</td>\n",
       "      <td>CA-2014-107181</td>\n",
       "      <td>2014-04-02</td>\n",
       "      <td>Not</td>\n",
       "      <td>2014-08-02</td>\n",
       "      <td>2</td>\n",
       "      <td>1</td>\n",
       "      <td>65</td>\n",
       "    </tr>\n",
       "    <tr>\n",
       "      <th>4696</th>\n",
       "      <td>DB-13270</td>\n",
       "      <td>CA-2014-107181</td>\n",
       "      <td>2014-04-02</td>\n",
       "      <td>Not</td>\n",
       "      <td>2014-08-02</td>\n",
       "      <td>2</td>\n",
       "      <td>1</td>\n",
       "      <td>84</td>\n",
       "    </tr>\n",
       "  </tbody>\n",
       "</table>\n",
       "</div>"
      ],
      "text/plain": [
       "     CustomerID         OrderID  OrderDate Returned   ShipDate  SalesPersonID  \\\n",
       "78     RA-19915  CA-2017-140585 2017-12-18      Yes 2017-12-23              2   \n",
       "79     RA-19915  CA-2017-140585 2017-12-18      Yes 2017-12-23              2   \n",
       "108    MP-18175  CA-2017-169859 2017-12-14      Yes 2017-12-18              2   \n",
       "109    MP-18175  CA-2017-169859 2017-12-14      Yes 2017-12-18              2   \n",
       "1083   SW-20455  CA-2017-145429 2017-07-21      Not 2017-07-25              2   \n",
       "1084   SW-20455  CA-2017-145429 2017-07-21      Not 2017-07-25              2   \n",
       "1111   NP-18325  CA-2017-126865 2017-05-12      Not 2017-07-12              2   \n",
       "1112   NP-18325  CA-2017-126865 2017-05-12      Not 2017-07-12              2   \n",
       "1602   TC-21295  CA-2017-136875 2017-03-12      Not 2017-03-12              2   \n",
       "1603   TC-21295  CA-2017-136875 2017-03-12      Not 2017-03-12              2   \n",
       "1759   TN-21040  CA-2016-155446 2016-12-16      Not 2016-12-23              2   \n",
       "1760   TN-21040  CA-2016-155446 2016-12-16      Not 2016-12-23              2   \n",
       "1831   DW-13480  CA-2016-164399 2016-12-11      Not 2016-12-11              2   \n",
       "1832   DW-13480  CA-2016-164399 2016-12-11      Not 2016-12-11              2   \n",
       "1990   AH-10690  CA-2016-148740 2016-11-15      Not 2016-11-19              2   \n",
       "1991   AH-10690  CA-2016-148740 2016-11-15      Not 2016-11-19              2   \n",
       "2214   MG-17890  CA-2016-154053 2016-04-03      Not 2016-10-03              2   \n",
       "2215   MG-17890  CA-2016-154053 2016-04-03      Not 2016-10-03              2   \n",
       "2492   DM-13015  CA-2016-160500 2016-05-05      Not 2016-08-05              2   \n",
       "2493   DM-13015  CA-2016-160500 2016-05-05      Not 2016-08-05              2   \n",
       "2644   BD-11320  CA-2016-130680 2016-06-24      Yes 2016-06-29              2   \n",
       "2645   BD-11320  CA-2016-130680 2016-06-24      Yes 2016-06-29              2   \n",
       "2671   IG-15085  CA-2016-159345 2016-06-17      Yes 2016-06-22              2   \n",
       "2672   IG-15085  CA-2016-159345 2016-06-17      Yes 2016-06-22              2   \n",
       "3262   CS-12250  CA-2015-136420 2015-11-20      Not 2015-11-21              2   \n",
       "3263   CS-12250  CA-2015-136420 2015-11-20      Not 2015-11-21              2   \n",
       "3323   SB-20290  CA-2015-153794 2015-11-09      Not 2015-11-09              2   \n",
       "3324   SB-20290  CA-2015-153794 2015-11-09      Not 2015-11-09              2   \n",
       "3412   MZ-17335  CA-2015-117611 2015-08-11      Not 2015-10-11              2   \n",
       "3413   MZ-17335  CA-2015-117611 2015-08-11      Not 2015-10-11              2   \n",
       "3683   JP-16135  CA-2015-152513 2015-04-07      Not 2015-08-07              2   \n",
       "3684   JP-16135  CA-2015-152513 2015-04-07      Not 2015-08-07              2   \n",
       "4091   CK-12595  CA-2014-106264 2014-12-26      Not 2014-12-30              2   \n",
       "4092   CK-12595  CA-2014-106264 2014-12-26      Not 2014-12-30              2   \n",
       "4105   GM-14440  CA-2014-154893 2014-12-21      Not 2014-12-27              2   \n",
       "4106   GM-14440  CA-2014-154893 2014-12-21      Not 2014-12-27              2   \n",
       "4397   SF-20965  CA-2014-169852 2014-10-21      Not 2014-10-26              2   \n",
       "4398   SF-20965  CA-2014-169852 2014-10-21      Not 2014-10-26              2   \n",
       "4442   XP-21865  CA-2014-134677 2014-06-10      Not 2014-10-10              2   \n",
       "4443   XP-21865  CA-2014-134677 2014-06-10      Not 2014-10-10              2   \n",
       "4524   HG-14965  CA-2014-126480 2014-09-20      Not 2014-09-24              2   \n",
       "4525   HG-14965  CA-2014-126480 2014-09-20      Not 2014-09-24              2   \n",
       "4651   LR-16915  CA-2014-131450 2014-08-08      Not 2014-08-15              2   \n",
       "4652   LR-16915  CA-2014-131450 2014-08-08      Not 2014-08-15              2   \n",
       "4695   DB-13270  CA-2014-107181 2014-04-02      Not 2014-08-02              2   \n",
       "4696   DB-13270  CA-2014-107181 2014-04-02      Not 2014-08-02              2   \n",
       "\n",
       "      ShipModeID  RegionID  \n",
       "78             2        65  \n",
       "79             2        84  \n",
       "108            1        65  \n",
       "109            1        84  \n",
       "1083           1        65  \n",
       "1084           1        84  \n",
       "1111           2        65  \n",
       "1112           2        84  \n",
       "1602           4        65  \n",
       "1603           4        84  \n",
       "1759           1        65  \n",
       "1760           1        84  \n",
       "1831           3        65  \n",
       "1832           3        84  \n",
       "1990           1        65  \n",
       "1991           1        84  \n",
       "2214           1        65  \n",
       "2215           1        84  \n",
       "2492           3        65  \n",
       "2493           3        84  \n",
       "2644           1        65  \n",
       "2645           1        84  \n",
       "2671           1        65  \n",
       "2672           1        84  \n",
       "3262           3        65  \n",
       "3263           3        84  \n",
       "3323           1        65  \n",
       "3324           1        84  \n",
       "3412           2        65  \n",
       "3413           2        84  \n",
       "3683           2        65  \n",
       "3684           2        84  \n",
       "4091           1        65  \n",
       "4092           1        84  \n",
       "4105           1        65  \n",
       "4106           1        84  \n",
       "4397           1        65  \n",
       "4398           1        84  \n",
       "4442           1        65  \n",
       "4443           1        84  \n",
       "4524           1        65  \n",
       "4525           1        84  \n",
       "4651           1        65  \n",
       "4652           1        84  \n",
       "4695           1        65  \n",
       "4696           1        84  "
      ]
     },
     "execution_count": 2510,
     "metadata": {},
     "output_type": "execute_result"
    }
   ],
   "source": [
    "# Suponiendo que tu DataFrame se llama df_fact_ventas\n",
    "\n",
    "# Encontrar los OrderIDs que aparecen más de una vez\n",
    "ordenes_duplicadas = factVentas[factVentas.duplicated(subset=['OrderID'], keep=False)]\n",
    "\n",
    "# Contar cuántas veces se repite cada OrderID duplicado\n",
    "ordenes_duplicadas\n",
    "\n",
    "# Opcional: ver las filas completas de los duplicados\n",
    "# print(ordenes_duplicadas)"
   ]
  },
  {
   "cell_type": "markdown",
   "id": "6b92b4b2-445f-4183-9105-e6e535c56dc3",
   "metadata": {},
   "source": [
    "# 📌Exportación de Datos"
   ]
  },
  {
   "cell_type": "code",
   "execution_count": 2402,
   "id": "6dcae05a-68b1-4e04-a4ef-642048cb6215",
   "metadata": {},
   "outputs": [],
   "source": [
    "# Exportación de los datasets\n",
    "\n",
    "path_guardado = os.path.join(path_base, \"database\")\n",
    "\n",
    "# Diccionario de los datasets para exportar \n",
    "dataframes = {\n",
    "    'dimCliente': dimCliente,\n",
    "    'dimVendedor': dimVendedor,\n",
    "    'dimModoEntrega': dimModoEntrega,\n",
    "    'dimRegion': dimRegion,\n",
    "    'dimProducto': dimProducto,\n",
    "    'factVentas': factVentas,\n",
    "    'factDetalles': factDetalles\n",
    "}\n",
    "\n",
    "for nombre, df in dataframes.items():\n",
    "\n",
    "    nombre_archivo = f\"{nombre}.csv\"\n",
    "    \n",
    "    path_completo = os.path.join(path_guardado, nombre_archivo)\n",
    "\n",
    "    df.to_csv(path_completo, index=False, mode='w')"
   ]
  },
  {
   "cell_type": "code",
   "execution_count": null,
   "id": "eded13d5-4e1b-4324-8cfd-9c1ad4b2b109",
   "metadata": {},
   "outputs": [],
   "source": []
  },
  {
   "cell_type": "code",
   "execution_count": 2403,
   "id": "012a0128-fd03-4305-bf1b-4d5e7a79e63d",
   "metadata": {},
   "outputs": [],
   "source": [
    "# Para futuros cambios\n",
    "import os\n",
    "from dotenv import load_dotenv\n",
    "from sqlalchemy import create_engine"
   ]
  },
  {
   "cell_type": "code",
   "execution_count": 2404,
   "id": "fbc22dcf-c61f-4808-bcdd-5a6cbb32d308",
   "metadata": {},
   "outputs": [],
   "source": [
    "# Carga de las variables desde el archivo privado .env\n",
    "load_dotenv() \n",
    "\n",
    "# Usar las variables para construir la cadena de conexión\n",
    "server = os.getenv('DB_SERVER')\n",
    "database = os.getenv('DB_NAME')"
   ]
  },
  {
   "cell_type": "code",
   "execution_count": 2405,
   "id": "7a1e2bf3-2117-4911-9389-86eb43b9b883",
   "metadata": {},
   "outputs": [
    {
     "name": "stdout",
     "output_type": "stream",
     "text": [
      "✅ Conexión con SQL Server establecida usando variables de entorno.\n"
     ]
    }
   ],
   "source": [
    "if server and database:\n",
    "    connection_string = f'mssql+pyodbc://{server}/{database}?driver=ODBC+Driver+17+for+SQL+Server&trusted_connection=yes'\n",
    "    \n",
    "    try:\n",
    "        engine = create_engine(connection_string)\n",
    "        print(\"✅ Conexión con SQL Server establecida usando variables de entorno.\")\n",
    "    except Exception as e:\n",
    "        print(f\"❌ Error al conectar: {e}\")\n",
    "else:\n",
    "    print(\"❌ Error: Las variables de entorno para el servidor o la base de datos no están configuradas.\")"
   ]
  },
  {
   "cell_type": "code",
   "execution_count": null,
   "id": "e8f42e58-cfeb-41ce-9ce4-a9634fcdd281",
   "metadata": {},
   "outputs": [],
   "source": []
  },
  {
   "cell_type": "markdown",
   "id": "cfbaa164-2c31-44d6-ab81-0d10f1f71797",
   "metadata": {},
   "source": [
    "❕ Las tablas ya están creadas previamente"
   ]
  },
  {
   "cell_type": "code",
   "execution_count": 2407,
   "id": "7c4695ca-2a96-4ce8-b453-4c2a1d1ffc82",
   "metadata": {},
   "outputs": [
    {
     "name": "stdout",
     "output_type": "stream",
     "text": [
      "\n",
      "Iniciando la carga de datos a SQL Server...\n",
      "✅ Datos de 'dimCliente' cargados correctamente.\n",
      "✅ Datos de 'dimVendedor' cargados correctamente.\n",
      "✅ Datos de 'dimModoEntrega' cargados correctamente.\n",
      "✅ Datos de 'dimRegion' cargados correctamente.\n",
      "✅ Datos de 'dimProducto' cargados correctamente.\n",
      "❌ Error al cargar los datos: (pyodbc.IntegrityError) ('23000', \"[23000] [Microsoft][ODBC Driver 17 for SQL Server][SQL Server]Violation of PRIMARY KEY constraint 'PK__factVent__C3905BAFC9B0744F'. Cannot insert duplicate key in object 'dbo.factVentas'. The duplicate key value is (CA-2017-140585). (2627) (SQLExecDirectW); [23000] [Microsoft][ODBC Driver 17 for SQL Server][SQL Server]The statement has been terminated. (3621)\")\n",
      "[SQL: INSERT INTO [factVentas] ([CustomerID], [OrderID], [OrderDate], [Returned], [ShipDate], [SalesPersonID], [ShipModeID], [RegionID]) VALUES (?, ?, ?, ?, ?, ?, ?, ?), (?, ?, ?, ?, ?, ?, ?, ?), (?, ?, ?, ?, ?, ?, ?, ?), (?, ?, ?, ?, ?, ?, ?, ?), (?, ?, ? ... 6598 characters truncated ... , ?, ?, ?, ?, ?, ?, ?), (?, ?, ?, ?, ?, ?, ?, ?), (?, ?, ?, ?, ?, ?, ?, ?), (?, ?, ?, ?, ?, ?, ?, ?)]\n",
      "[parameters: ('CC-12430', 'CA-2017-126221', datetime.datetime(2017, 12, 30, 0, 0), 'Not', datetime.datetime(2018, 5, 1, 0, 0), 1, 1, 1, 'BP-11185', 'CA-2017-146626', datetime.datetime(2017, 12, 29, 0, 0), 'Not', datetime.datetime(2018, 5, 1, 0, 0), 2, 1, 2, 'JF-15415', 'CA-2017-164826', datetime.datetime(2017, 12, 28, 0, 0), 'Not', datetime.datetime(2018, 4, 1, 0, 0), 3, 1, 3, 'KB-16600', 'CA-2017-158673', datetime.datetime(2017, 12, 29, 0, 0), 'Not', datetime.datetime(2018, 4, 1, 0, 0), 1, 1, 4, 'PO-18865', 'CA-2017-143259', datetime.datetime(2017, 12, 30, 0, 0), 'Not', datetime.datetime(2018, 3, 1, 0, 0), 3, 1, 5, 'EB-13975', 'CA-2017-115427', datetime.datetime(2017, 12, 30, 0, 0), 'Yes', datetime.datetime(2018, 3, 1, 0, 0), 2, 1, 6, 'EH-14005', 'CA-2017-127516' ... 1996 parameters truncated ... 4, 62, 'FM-14290', 'CA-2017-146535', datetime.datetime(2017, 11, 24, 0, 0), 'Not', datetime.datetime(2017, 11, 30, 0, 0), 4, 1, 110, 'CC-12610', 'CA-2017-155957', datetime.datetime(2017, 11, 26, 0, 0), 'Not', datetime.datetime(2017, 11, 30, 0, 0), 3, 1, 26, 'PN-18775', 'US-2017-148768', datetime.datetime(2017, 11, 30, 0, 0), 'Not', datetime.datetime(2017, 11, 30, 0, 0), 4, 2, 157, 'SC-20800', 'CA-2017-102267', datetime.datetime(2017, 11, 30, 0, 0), 'Not', datetime.datetime(2017, 11, 30, 0, 0), 1, 1, 158, 'SC-20380', 'CA-2017-142090', datetime.datetime(2017, 11, 30, 0, 0), 'Not', datetime.datetime(2017, 11, 30, 0, 0), 4, 1, 159, 'FG-14260', 'CA-2017-155607', datetime.datetime(2017, 11, 26, 0, 0), 'Not', datetime.datetime(2017, 11, 30, 0, 0), 3, 1, 5)]\n",
      "(Background on this error at: https://sqlalche.me/e/20/gkpj)\n",
      "Esto podría deberse a un problema de tipos de datos o a que las columnas no coinciden.\n",
      "✅ Conexión con la base de datos cerrada.\n"
     ]
    }
   ],
   "source": [
    "if engine is not None:\n",
    "    # Diccionario con los nombres de las tablas y sus DataFrames\n",
    "    dataframes_a_cargar = {\n",
    "        'dimCliente': dimCliente,\n",
    "        'dimVendedor': dimVendedor,\n",
    "        'dimModoEntrega': dimModoEntrega,\n",
    "        'dimRegion': dimRegion,\n",
    "        'dimProducto': dimProducto,\n",
    "        'factVentas': factVentas,\n",
    "        'factDetalles': factDetalles\n",
    "    }\n",
    "\n",
    "    print(\"\\nIniciando la carga de datos a SQL Server...\")\n",
    "\n",
    "    try:\n",
    "        for nombre, df in dataframes_a_cargar.items():\n",
    "            # if_exists=\"append\" agregará los datos a la tabla existente\n",
    "            \n",
    "            df.to_sql(nombre, con=engine, if_exists='append', index=False)\n",
    "            print(f\"✅ Datos de '{nombre}' cargados correctamente.\")\n",
    "        \n",
    "        print(\"\\n🎉 ¡Todos los DataFrames han sido cargados a SQL Server con éxito!\")\n",
    "\n",
    "    except Exception as e:\n",
    "        print(f\"❌ Error al cargar los datos: {e}\")\n",
    "        print(\"Esto podría deberse a un problema de tipos de datos o a que las columnas no coinciden.\")\n",
    "\n",
    "    finally:\n",
    "        if 'engine' in locals():\n",
    "            engine.dispose()\n",
    "            print(\"✅ Conexión con la base de datos cerrada.\")"
   ]
  },
  {
   "cell_type": "code",
   "execution_count": null,
   "id": "4eb3c085-7dc6-4925-a0c2-b1088076012c",
   "metadata": {},
   "outputs": [],
   "source": []
  }
 ],
 "metadata": {
  "kernelspec": {
   "display_name": "Python [conda env:base] *",
   "language": "python",
   "name": "conda-base-py"
  },
  "language_info": {
   "codemirror_mode": {
    "name": "ipython",
    "version": 3
   },
   "file_extension": ".py",
   "mimetype": "text/x-python",
   "name": "python",
   "nbconvert_exporter": "python",
   "pygments_lexer": "ipython3",
   "version": "3.12.7"
  }
 },
 "nbformat": 4,
 "nbformat_minor": 5
}
